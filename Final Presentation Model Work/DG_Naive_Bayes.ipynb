{
 "cells": [
  {
   "cell_type": "code",
   "execution_count": 1,
   "id": "986a085b",
   "metadata": {},
   "outputs": [],
   "source": [
    "#Importing libraries\n",
    "import pandas as pd\n",
    "import numpy as np\n",
    "import matplotlib.pyplot as plt\n",
    "import seaborn as sns\n",
    "import joblib\n",
    "from sklearn.feature_extraction.text import TfidfVectorizer\n",
    "from sklearn import metrics\n",
    "from sklearn.model_selection import train_test_split\n",
    "from sklearn.naive_bayes import MultinomialNB\n",
    "from sklearn.metrics import accuracy_score, classification_report, confusion_matrix"
   ]
  },
  {
   "cell_type": "code",
   "execution_count": 2,
   "id": "541c23cc",
   "metadata": {},
   "outputs": [
    {
     "data": {
      "text/html": [
       "<div>\n",
       "<style scoped>\n",
       "    .dataframe tbody tr th:only-of-type {\n",
       "        vertical-align: middle;\n",
       "    }\n",
       "\n",
       "    .dataframe tbody tr th {\n",
       "        vertical-align: top;\n",
       "    }\n",
       "\n",
       "    .dataframe thead th {\n",
       "        text-align: right;\n",
       "    }\n",
       "</style>\n",
       "<table border=\"1\" class=\"dataframe\">\n",
       "  <thead>\n",
       "    <tr style=\"text-align: right;\">\n",
       "      <th></th>\n",
       "      <th>label</th>\n",
       "      <th>full_text</th>\n",
       "      <th>digit</th>\n",
       "    </tr>\n",
       "  </thead>\n",
       "  <tbody>\n",
       "    <tr>\n",
       "      <th>0</th>\n",
       "      <td>False</td>\n",
       "      <td>abortion says annies list political group supp...</td>\n",
       "      <td>0</td>\n",
       "    </tr>\n",
       "    <tr>\n",
       "      <th>1</th>\n",
       "      <td>True</td>\n",
       "      <td>energy history job accomplishments decline coa...</td>\n",
       "      <td>1</td>\n",
       "    </tr>\n",
       "    <tr>\n",
       "      <th>2</th>\n",
       "      <td>True</td>\n",
       "      <td>foreign policy hillary clinton agrees john mcc...</td>\n",
       "      <td>1</td>\n",
       "    </tr>\n",
       "    <tr>\n",
       "      <th>3</th>\n",
       "      <td>True</td>\n",
       "      <td>education chicago bears starting quarterbacks ...</td>\n",
       "      <td>1</td>\n",
       "    </tr>\n",
       "    <tr>\n",
       "      <th>4</th>\n",
       "      <td>True</td>\n",
       "      <td>ethics m person stage worked actively just las...</td>\n",
       "      <td>1</td>\n",
       "    </tr>\n",
       "    <tr>\n",
       "      <th>...</th>\n",
       "      <td>...</td>\n",
       "      <td>...</td>\n",
       "      <td>...</td>\n",
       "    </tr>\n",
       "    <tr>\n",
       "      <th>54032</th>\n",
       "      <td>True</td>\n",
       "      <td>brussels reuters nato allies tuesday welcomed ...</td>\n",
       "      <td>1</td>\n",
       "    </tr>\n",
       "    <tr>\n",
       "      <th>54033</th>\n",
       "      <td>True</td>\n",
       "      <td>london reuters lexisnexis provider legal regul...</td>\n",
       "      <td>1</td>\n",
       "    </tr>\n",
       "    <tr>\n",
       "      <th>54034</th>\n",
       "      <td>True</td>\n",
       "      <td>minsk reuters shadow disused sovietera factori...</td>\n",
       "      <td>1</td>\n",
       "    </tr>\n",
       "    <tr>\n",
       "      <th>54035</th>\n",
       "      <td>True</td>\n",
       "      <td>moscow reuters vatican secretary state cardina...</td>\n",
       "      <td>1</td>\n",
       "    </tr>\n",
       "    <tr>\n",
       "      <th>54036</th>\n",
       "      <td>True</td>\n",
       "      <td>jakarta reuters indonesia will buy 11 sukhoi f...</td>\n",
       "      <td>1</td>\n",
       "    </tr>\n",
       "  </tbody>\n",
       "</table>\n",
       "<p>54037 rows × 3 columns</p>\n",
       "</div>"
      ],
      "text/plain": [
       "       label                                          full_text  digit\n",
       "0      False  abortion says annies list political group supp...      0\n",
       "1       True  energy history job accomplishments decline coa...      1\n",
       "2       True  foreign policy hillary clinton agrees john mcc...      1\n",
       "3       True  education chicago bears starting quarterbacks ...      1\n",
       "4       True  ethics m person stage worked actively just las...      1\n",
       "...      ...                                                ...    ...\n",
       "54032   True  brussels reuters nato allies tuesday welcomed ...      1\n",
       "54033   True  london reuters lexisnexis provider legal regul...      1\n",
       "54034   True  minsk reuters shadow disused sovietera factori...      1\n",
       "54035   True  moscow reuters vatican secretary state cardina...      1\n",
       "54036   True  jakarta reuters indonesia will buy 11 sukhoi f...      1\n",
       "\n",
       "[54037 rows x 3 columns]"
      ]
     },
     "execution_count": 2,
     "metadata": {},
     "output_type": "execute_result"
    }
   ],
   "source": [
    "#Loading the dataset\n",
    "DataSet = pd.read_csv(r\"DG_preprocessing.csv\")\n",
    "DataSet"
   ]
  },
  {
   "cell_type": "markdown",
   "id": "bec0a41d",
   "metadata": {},
   "source": [
    "#### Exploratory Data Analysis (EDA)"
   ]
  },
  {
   "cell_type": "code",
   "execution_count": 3,
   "id": "d395ab49",
   "metadata": {},
   "outputs": [
    {
     "name": "stdout",
     "output_type": "stream",
     "text": [
      "<class 'pandas.core.frame.DataFrame'>\n",
      "RangeIndex: 54037 entries, 0 to 54036\n",
      "Data columns (total 3 columns):\n",
      " #   Column     Non-Null Count  Dtype \n",
      "---  ------     --------------  ----- \n",
      " 0   label      54037 non-null  bool  \n",
      " 1   full_text  54037 non-null  object\n",
      " 2   digit      54037 non-null  int64 \n",
      "dtypes: bool(1), int64(1), object(1)\n",
      "memory usage: 897.2+ KB\n"
     ]
    },
    {
     "data": {
      "image/png": "[encoded data removed]",
      "text/plain": [
       "<Figure size 640x480 with 1 Axes>"
      ]
     },
     "metadata": {},
     "output_type": "display_data"
    }
   ],
   "source": [
    "#Checking the structure and basic statistics of the dataset\n",
    "DataSet.head()\n",
    "DataSet.info()\n",
    "DataSet.describe()\n",
    "\n",
    "#Checking the distribution of the target variable\n",
    "sns.countplot(DataSet['label'])\n",
    "plt.title('Distribution of Labels')\n",
    "plt.show()"
   ]
  },
  {
   "cell_type": "markdown",
   "id": "6970e49d",
   "metadata": {},
   "source": [
    "#### Data Cleaning and Preprocessing"
   ]
  },
  {
   "cell_type": "code",
   "execution_count": 4,
   "id": "b32d811f",
   "metadata": {},
   "outputs": [],
   "source": [
    "# #Filling missing values, if any\n",
    "# DataSet = DataSet.fillna('')\n",
    "# DataSet"
   ]
  },
  {
   "cell_type": "code",
   "execution_count": 5,
   "id": "440be149",
   "metadata": {},
   "outputs": [],
   "source": [
    "# #Performing text cleaning and preprocessing\n",
    "# import re\n",
    "\n",
    "# def preprocess_text(text):\n",
    "    \n",
    "#     #Removing special characters and symbols\n",
    "#     text = re.sub(r\"[^a-zA-Z0-9]\", \" \", text)\n",
    "    \n",
    "#     #Converting text to lowercase\n",
    "#     text = text.lower()\n",
    "    \n",
    "#     #Removing extra whitespaces\n",
    "#     text = re.sub(r\"\\s+\", \" \", text)\n",
    "    \n",
    "#     #Other preprocessing steps (if any)\n",
    "    \n",
    "#     return text\n",
    "\n",
    "# DataSet['statement'] = DataSet['statement'].apply(preprocess_text)"
   ]
  },
  {
   "cell_type": "code",
   "execution_count": 6,
   "id": "ed117065",
   "metadata": {},
   "outputs": [],
   "source": [
    "#Splitting the dataset into train and test sets\n",
    "X = DataSet['full_text']\n",
    "Y = DataSet['label']\n",
    "X_Train, X_Test, Y_Train, Y_Test = train_test_split(X, Y, test_size=0.2, random_state=42)"
   ]
  },
  {
   "cell_type": "markdown",
   "id": "5fc44c3e",
   "metadata": {},
   "source": [
    "#### Feature Extraction"
   ]
  },
  {
   "cell_type": "code",
   "execution_count": 7,
   "id": "a832298f",
   "metadata": {},
   "outputs": [],
   "source": [
    "#Performing text vectorization\n",
    "Vectorizer = TfidfVectorizer()\n",
    "X_Train = Vectorizer.fit_transform(X_Train)\n",
    "X_Test = Vectorizer.transform(X_Test)"
   ]
  },
  {
   "cell_type": "markdown",
   "id": "94d288e5",
   "metadata": {},
   "source": [
    "#### Model Training and Evaluation"
   ]
  },
  {
   "cell_type": "code",
   "execution_count": 8,
   "id": "1f117542",
   "metadata": {},
   "outputs": [
    {
     "data": {
      "text/html": [
       "<style>#sk-container-id-1 {color: black;background-color: white;}#sk-container-id-1 pre{padding: 0;}#sk-container-id-1 div.sk-toggleable {background-color: white;}#sk-container-id-1 label.sk-toggleable__label {cursor: pointer;display: block;width: 100%;margin-bottom: 0;padding: 0.3em;box-sizing: border-box;text-align: center;}#sk-container-id-1 label.sk-toggleable__label-arrow:before {content: \"▸\";float: left;margin-right: 0.25em;color: #696969;}#sk-container-id-1 label.sk-toggleable__label-arrow:hover:before {color: black;}#sk-container-id-1 div.sk-estimator:hover label.sk-toggleable__label-arrow:before {color: black;}#sk-container-id-1 div.sk-toggleable__content {max-height: 0;max-width: 0;overflow: hidden;text-align: left;background-color: #f0f8ff;}#sk-container-id-1 div.sk-toggleable__content pre {margin: 0.2em;color: black;border-radius: 0.25em;background-color: #f0f8ff;}#sk-container-id-1 input.sk-toggleable__control:checked~div.sk-toggleable__content {max-height: 200px;max-width: 100%;overflow: auto;}#sk-container-id-1 input.sk-toggleable__control:checked~label.sk-toggleable__label-arrow:before {content: \"▾\";}#sk-container-id-1 div.sk-estimator input.sk-toggleable__control:checked~label.sk-toggleable__label {background-color: #d4ebff;}#sk-container-id-1 div.sk-label input.sk-toggleable__control:checked~label.sk-toggleable__label {background-color: #d4ebff;}#sk-container-id-1 input.sk-hidden--visually {border: 0;clip: rect(1px 1px 1px 1px);clip: rect(1px, 1px, 1px, 1px);height: 1px;margin: -1px;overflow: hidden;padding: 0;position: absolute;width: 1px;}#sk-container-id-1 div.sk-estimator {font-family: monospace;background-color: #f0f8ff;border: 1px dotted black;border-radius: 0.25em;box-sizing: border-box;margin-bottom: 0.5em;}#sk-container-id-1 div.sk-estimator:hover {background-color: #d4ebff;}#sk-container-id-1 div.sk-parallel-item::after {content: \"\";width: 100%;border-bottom: 1px solid gray;flex-grow: 1;}#sk-container-id-1 div.sk-label:hover label.sk-toggleable__label {background-color: #d4ebff;}#sk-container-id-1 div.sk-serial::before {content: \"\";position: absolute;border-left: 1px solid gray;box-sizing: border-box;top: 0;bottom: 0;left: 50%;z-index: 0;}#sk-container-id-1 div.sk-serial {display: flex;flex-direction: column;align-items: center;background-color: white;padding-right: 0.2em;padding-left: 0.2em;position: relative;}#sk-container-id-1 div.sk-item {position: relative;z-index: 1;}#sk-container-id-1 div.sk-parallel {display: flex;align-items: stretch;justify-content: center;background-color: white;position: relative;}#sk-container-id-1 div.sk-item::before, #sk-container-id-1 div.sk-parallel-item::before {content: \"\";position: absolute;border-left: 1px solid gray;box-sizing: border-box;top: 0;bottom: 0;left: 50%;z-index: -1;}#sk-container-id-1 div.sk-parallel-item {display: flex;flex-direction: column;z-index: 1;position: relative;background-color: white;}#sk-container-id-1 div.sk-parallel-item:first-child::after {align-self: flex-end;width: 50%;}#sk-container-id-1 div.sk-parallel-item:last-child::after {align-self: flex-start;width: 50%;}#sk-container-id-1 div.sk-parallel-item:only-child::after {width: 0;}#sk-container-id-1 div.sk-dashed-wrapped {border: 1px dashed gray;margin: 0 0.4em 0.5em 0.4em;box-sizing: border-box;padding-bottom: 0.4em;background-color: white;}#sk-container-id-1 div.sk-label label {font-family: monospace;font-weight: bold;display: inline-block;line-height: 1.2em;}#sk-container-id-1 div.sk-label-container {text-align: center;}#sk-container-id-1 div.sk-container {/* jupyter's `normalize.less` sets `[hidden] { display: none; }` but bootstrap.min.css set `[hidden] { display: none !important; }` so we also need the `!important` here to be able to override the default hidden behavior on the sphinx rendered scikit-learn.org. See: https://github.com/scikit-learn/scikit-learn/issues/21755 */display: inline-block !important;position: relative;}#sk-container-id-1 div.sk-text-repr-fallback {display: none;}</style><div id=\"sk-container-id-1\" class=\"sk-top-container\"><div class=\"sk-text-repr-fallback\"><pre>MultinomialNB()</pre><b>In a Jupyter environment, please rerun this cell to show the HTML representation or trust the notebook. <br />On GitHub, the HTML representation is unable to render, please try loading this page with nbviewer.org.</b></div><div class=\"sk-container\" hidden><div class=\"sk-item\"><div class=\"sk-estimator sk-toggleable\"><input class=\"sk-toggleable__control sk-hidden--visually\" id=\"sk-estimator-id-1\" type=\"checkbox\" checked><label for=\"sk-estimator-id-1\" class=\"sk-toggleable__label sk-toggleable__label-arrow\">MultinomialNB</label><div class=\"sk-toggleable__content\"><pre>MultinomialNB()</pre></div></div></div></div></div>"
      ],
      "text/plain": [
       "MultinomialNB()"
      ]
     },
     "execution_count": 8,
     "metadata": {},
     "output_type": "execute_result"
    }
   ],
   "source": [
    "#Creating and training the Naive Bayes model\n",
    "NBModel = MultinomialNB()\n",
    "NBModel.fit(X_Train, Y_Train)"
   ]
  },
  {
   "cell_type": "code",
   "execution_count": 9,
   "id": "8aa35511",
   "metadata": {},
   "outputs": [],
   "source": [
    "#Making predictions on the testing set\n",
    "Y_Pred = NBModel.predict(X_Test)"
   ]
  },
  {
   "cell_type": "code",
   "execution_count": 10,
   "id": "7689147d",
   "metadata": {},
   "outputs": [
    {
     "name": "stdout",
     "output_type": "stream",
     "text": [
      "              precision    recall  f1-score   support\n",
      "\n",
      "       False       0.93      0.82      0.87      5286\n",
      "        True       0.84      0.94      0.89      5522\n",
      "\n",
      "    accuracy                           0.88     10808\n",
      "   macro avg       0.89      0.88      0.88     10808\n",
      "weighted avg       0.89      0.88      0.88     10808\n",
      "\n",
      "Accuracy: 0.881661732050333\n",
      "Confusion Matrix:\n",
      "[[4318  968]\n",
      " [ 311 5211]]\n"
     ]
    }
   ],
   "source": [
    "#Evaluating the model\n",
    "print(classification_report(Y_Test, Y_Pred))\n",
    "print(\"Accuracy:\", metrics.accuracy_score(Y_Test, Y_Pred))\n",
    "ConfMatrix = confusion_matrix(Y_Test, Y_Pred)\n",
    "print(\"Confusion Matrix:\")\n",
    "print(ConfMatrix)"
   ]
  },
  {
   "cell_type": "markdown",
   "id": "dce63ed8",
   "metadata": {},
   "source": [
    "#### Model Deployment"
   ]
  },
  {
   "cell_type": "code",
   "execution_count": 11,
   "id": "eb396958",
   "metadata": {},
   "outputs": [
    {
     "data": {
      "text/plain": [
       "['naive_bayes_model.pkl']"
      ]
     },
     "execution_count": 11,
     "metadata": {},
     "output_type": "execute_result"
    }
   ],
   "source": [
    "#Saving the trained model for future use\n",
    "joblib.dump(NBModel, 'naive_bayes_model.pkl')"
   ]
  },
  {
   "cell_type": "markdown",
   "id": "960d8244",
   "metadata": {},
   "source": [
    "#### Bar Plot: Visualize the distribution of sentiments in the dataset"
   ]
  },
  {
   "cell_type": "code",
   "execution_count": 14,
   "id": "3dba4c0b",
   "metadata": {},
   "outputs": [
    {
     "data": {
      "image/png": "[encoded data removed]",
      "text/plain": [
       "<Figure size 800x600 with 1 Axes>"
      ]
     },
     "metadata": {},
     "output_type": "display_data"
    }
   ],
   "source": [
    "SentimentCounts = DataSet['label'].value_counts()\n",
    "plt.figure(figsize=(8, 6))\n",
    "plt.bar(SentimentCounts.index, SentimentCounts.values)\n",
    "plt.xlabel('Sentiment')\n",
    "plt.ylabel('Count')\n",
    "plt.title('Distribution of Sentiments')\n",
    "plt.show()"
   ]
  },
  {
   "cell_type": "markdown",
   "id": "375dd59a",
   "metadata": {},
   "source": [
    "#### Confusion Matrix: Evaluate the performance of the sentiment classification model"
   ]
  },
  {
   "cell_type": "code",
   "execution_count": 15,
   "id": "bc62bbda",
   "metadata": {},
   "outputs": [
    {
     "data": {
      "image/png": "[encoded data removed]",
      "text/plain": [
       "<Figure size 800x600 with 1 Axes>"
      ]
     },
     "metadata": {},
     "output_type": "display_data"
    }
   ],
   "source": [
    "#Creating a confusion matrix\n",
    "CM = confusion_matrix(Y_Test, Y_Pred)\n",
    "\n",
    "#Creating a heatmap of the confusion matrix\n",
    "plt.figure(figsize=(8, 6))\n",
    "sns.heatmap(CM, annot=True, cmap='Blues', fmt='d', cbar=False)\n",
    "plt.xlabel('Predicted Labels')\n",
    "plt.ylabel('True Labels')\n",
    "plt.title('Confusion Matrix')\n",
    "plt.show()"
   ]
  },
  {
   "cell_type": "markdown",
   "id": "fb30f863",
   "metadata": {},
   "source": [
    "#### Bar Chart: Comparison of accuracy of Naive Bayes with a hypothetical baseline model"
   ]
  },
  {
   "cell_type": "code",
   "execution_count": 18,
   "id": "d8424197",
   "metadata": {},
   "outputs": [
    {
     "data": {
      "image/png": "[encoded data removed]",
      "text/plain": [
       "<Figure size 640x480 with 1 Axes>"
      ]
     },
     "metadata": {},
     "output_type": "display_data"
    }
   ],
   "source": [
    "AccuracyScores = [accuracy_score(Y_Test, Y_Pred), 0.70]  \n",
    "Models = ['Naive Bayes Model', 'Baseline Model']\n",
    "\n",
    "plt.bar(Models, AccuracyScores)\n",
    "plt.title('Model Accuracy Comparison')\n",
    "plt.xlabel('Models')\n",
    "plt.ylabel('Accuracy Score')\n",
    "plt.ylim([0, 1])  #Setting the y-axis limits between 0 and 1\n",
    "plt.show()"
   ]
  }
 ],
 "metadata": {
  "kernelspec": {
   "display_name": "Python 3 (ipykernel)",
   "language": "python",
   "name": "python3"
  },
  "language_info": {
   "codemirror_mode": {
    "name": "ipython",
    "version": 3
   },
   "file_extension": ".py",
   "mimetype": "text/x-python",
   "name": "python",
   "nbconvert_exporter": "python",
   "pygments_lexer": "ipython3",
   "version": "3.10.7"
  }
 },
 "nbformat": 4,
 "nbformat_minor": 5
}
