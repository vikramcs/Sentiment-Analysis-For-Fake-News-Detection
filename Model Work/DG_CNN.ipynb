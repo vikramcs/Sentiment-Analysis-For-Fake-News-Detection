{
 "cells": [
  {
   "cell_type": "code",
   "execution_count": 3,
   "id": "39931d74",
   "metadata": {},
   "outputs": [
    {
     "name": "stdout",
     "output_type": "stream",
     "text": [
      "Requirement already satisfied: pandas in c:\\users\\vaibh\\appdata\\local\\programs\\python\\python310\\lib\\site-packages (1.5.0)\n",
      "Requirement already satisfied: numpy in c:\\users\\vaibh\\appdata\\local\\programs\\python\\python310\\lib\\site-packages (1.23.3)\n",
      "Requirement already satisfied: scikit-learn in c:\\users\\vaibh\\appdata\\local\\programs\\python\\python310\\lib\\site-packages (1.1.2)\n",
      "Requirement already satisfied: tensorflow in c:\\users\\vaibh\\appdata\\local\\programs\\python\\python310\\lib\\site-packages (2.10.0)\n",
      "Requirement already satisfied: python-dateutil>=2.8.1 in c:\\users\\vaibh\\appdata\\local\\programs\\python\\python310\\lib\\site-packages (from pandas) (2.8.2)\n",
      "Requirement already satisfied: pytz>=2020.1 in c:\\users\\vaibh\\appdata\\local\\programs\\python\\python310\\lib\\site-packages (from pandas) (2022.2.1)\n",
      "Requirement already satisfied: scipy>=1.3.2 in c:\\users\\vaibh\\appdata\\local\\programs\\python\\python310\\lib\\site-packages (from scikit-learn) (1.9.1)\n",
      "Requirement already satisfied: joblib>=1.0.0 in c:\\users\\vaibh\\appdata\\local\\programs\\python\\python310\\lib\\site-packages (from scikit-learn) (1.2.0)\n",
      "Requirement already satisfied: threadpoolctl>=2.0.0 in c:\\users\\vaibh\\appdata\\local\\programs\\python\\python310\\lib\\site-packages (from scikit-learn) (3.1.0)\n",
      "Requirement already satisfied: absl-py>=1.0.0 in c:\\users\\vaibh\\appdata\\local\\programs\\python\\python310\\lib\\site-packages (from tensorflow) (1.2.0)\n",
      "Requirement already satisfied: astunparse>=1.6.0 in c:\\users\\vaibh\\appdata\\local\\programs\\python\\python310\\lib\\site-packages (from tensorflow) (1.6.3)\n",
      "Requirement already satisfied: flatbuffers>=2.0 in c:\\users\\vaibh\\appdata\\local\\programs\\python\\python310\\lib\\site-packages (from tensorflow) (2.0.7)\n",
      "Requirement already satisfied: gast<=0.4.0,>=0.2.1 in c:\\users\\vaibh\\appdata\\local\\programs\\python\\python310\\lib\\site-packages (from tensorflow) (0.4.0)\n",
      "Requirement already satisfied: google-pasta>=0.1.1 in c:\\users\\vaibh\\appdata\\local\\programs\\python\\python310\\lib\\site-packages (from tensorflow) (0.2.0)\n",
      "Requirement already satisfied: h5py>=2.9.0 in c:\\users\\vaibh\\appdata\\local\\programs\\python\\python310\\lib\\site-packages (from tensorflow) (3.7.0)\n",
      "Requirement already satisfied: keras-preprocessing>=1.1.1 in c:\\users\\vaibh\\appdata\\local\\programs\\python\\python310\\lib\\site-packages (from tensorflow) (1.1.2)\n",
      "Requirement already satisfied: libclang>=13.0.0 in c:\\users\\vaibh\\appdata\\local\\programs\\python\\python310\\lib\\site-packages (from tensorflow) (14.0.6)\n",
      "Requirement already satisfied: opt-einsum>=2.3.2 in c:\\users\\vaibh\\appdata\\local\\programs\\python\\python310\\lib\\site-packages (from tensorflow) (3.3.0)\n",
      "Requirement already satisfied: packaging in c:\\users\\vaibh\\appdata\\local\\programs\\python\\python310\\lib\\site-packages (from tensorflow) (21.3)\n",
      "Requirement already satisfied: protobuf<3.20,>=3.9.2 in c:\\users\\vaibh\\appdata\\local\\programs\\python\\python310\\lib\\site-packages (from tensorflow) (3.19.5)\n",
      "Requirement already satisfied: setuptools in c:\\users\\vaibh\\appdata\\local\\programs\\python\\python310\\lib\\site-packages (from tensorflow) (63.2.0)\n",
      "Requirement already satisfied: six>=1.12.0 in c:\\users\\vaibh\\appdata\\local\\programs\\python\\python310\\lib\\site-packages (from tensorflow) (1.16.0)\n",
      "Requirement already satisfied: termcolor>=1.1.0 in c:\\users\\vaibh\\appdata\\local\\programs\\python\\python310\\lib\\site-packages (from tensorflow) (2.0.1)\n",
      "Requirement already satisfied: typing-extensions>=3.6.6 in c:\\users\\vaibh\\appdata\\local\\programs\\python\\python310\\lib\\site-packages (from tensorflow) (4.3.0)\n",
      "Requirement already satisfied: wrapt>=1.11.0 in c:\\users\\vaibh\\appdata\\local\\programs\\python\\python310\\lib\\site-packages (from tensorflow) (1.14.1)\n",
      "Requirement already satisfied: tensorflow-io-gcs-filesystem>=0.23.1 in c:\\users\\vaibh\\appdata\\local\\programs\\python\\python310\\lib\\site-packages (from tensorflow) (0.27.0)\n",
      "Requirement already satisfied: grpcio<2.0,>=1.24.3 in c:\\users\\vaibh\\appdata\\local\\programs\\python\\python310\\lib\\site-packages (from tensorflow) (1.48.1)\n",
      "Requirement already satisfied: tensorboard<2.11,>=2.10 in c:\\users\\vaibh\\appdata\\local\\programs\\python\\python310\\lib\\site-packages (from tensorflow) (2.10.0)\n",
      "Requirement already satisfied: tensorflow-estimator<2.11,>=2.10.0 in c:\\users\\vaibh\\appdata\\local\\programs\\python\\python310\\lib\\site-packages (from tensorflow) (2.10.0)\n",
      "Requirement already satisfied: keras<2.11,>=2.10.0 in c:\\users\\vaibh\\appdata\\local\\programs\\python\\python310\\lib\\site-packages (from tensorflow) (2.10.0)\n",
      "Requirement already satisfied: wheel<1.0,>=0.23.0 in c:\\users\\vaibh\\appdata\\local\\programs\\python\\python310\\lib\\site-packages (from astunparse>=1.6.0->tensorflow) (0.37.1)\n",
      "Requirement already satisfied: google-auth<3,>=1.6.3 in c:\\users\\vaibh\\appdata\\local\\programs\\python\\python310\\lib\\site-packages (from tensorboard<2.11,>=2.10->tensorflow) (2.11.1)\n",
      "Requirement already satisfied: google-auth-oauthlib<0.5,>=0.4.1 in c:\\users\\vaibh\\appdata\\local\\programs\\python\\python310\\lib\\site-packages (from tensorboard<2.11,>=2.10->tensorflow) (0.4.6)\n",
      "Requirement already satisfied: markdown>=2.6.8 in c:\\users\\vaibh\\appdata\\local\\programs\\python\\python310\\lib\\site-packages (from tensorboard<2.11,>=2.10->tensorflow) (3.4.1)\n",
      "Requirement already satisfied: requests<3,>=2.21.0 in c:\\users\\vaibh\\appdata\\local\\programs\\python\\python310\\lib\\site-packages (from tensorboard<2.11,>=2.10->tensorflow) (2.28.1)\n",
      "Requirement already satisfied: tensorboard-data-server<0.7.0,>=0.6.0 in c:\\users\\vaibh\\appdata\\local\\programs\\python\\python310\\lib\\site-packages (from tensorboard<2.11,>=2.10->tensorflow) (0.6.1)\n",
      "Requirement already satisfied: tensorboard-plugin-wit>=1.6.0 in c:\\users\\vaibh\\appdata\\local\\programs\\python\\python310\\lib\\site-packages (from tensorboard<2.11,>=2.10->tensorflow) (1.8.1)\n",
      "Requirement already satisfied: werkzeug>=1.0.1 in c:\\users\\vaibh\\appdata\\local\\programs\\python\\python310\\lib\\site-packages (from tensorboard<2.11,>=2.10->tensorflow) (2.2.2)\n",
      "Requirement already satisfied: pyparsing!=3.0.5,>=2.0.2 in c:\\users\\vaibh\\appdata\\local\\programs\\python\\python310\\lib\\site-packages (from packaging->tensorflow) (3.0.9)\n",
      "Requirement already satisfied: cachetools<6.0,>=2.0.0 in c:\\users\\vaibh\\appdata\\local\\programs\\python\\python310\\lib\\site-packages (from google-auth<3,>=1.6.3->tensorboard<2.11,>=2.10->tensorflow) (5.2.0)\n",
      "Requirement already satisfied: pyasn1-modules>=0.2.1 in c:\\users\\vaibh\\appdata\\local\\programs\\python\\python310\\lib\\site-packages (from google-auth<3,>=1.6.3->tensorboard<2.11,>=2.10->tensorflow) (0.2.8)\n",
      "Requirement already satisfied: rsa<5,>=3.1.4 in c:\\users\\vaibh\\appdata\\local\\programs\\python\\python310\\lib\\site-packages (from google-auth<3,>=1.6.3->tensorboard<2.11,>=2.10->tensorflow) (4.9)\n",
      "Requirement already satisfied: requests-oauthlib>=0.7.0 in c:\\users\\vaibh\\appdata\\local\\programs\\python\\python310\\lib\\site-packages (from google-auth-oauthlib<0.5,>=0.4.1->tensorboard<2.11,>=2.10->tensorflow) (1.3.1)\n",
      "Requirement already satisfied: charset-normalizer<3,>=2 in c:\\users\\vaibh\\appdata\\local\\programs\\python\\python310\\lib\\site-packages (from requests<3,>=2.21.0->tensorboard<2.11,>=2.10->tensorflow) (2.1.1)\n",
      "Requirement already satisfied: idna<4,>=2.5 in c:\\users\\vaibh\\appdata\\local\\programs\\python\\python310\\lib\\site-packages (from requests<3,>=2.21.0->tensorboard<2.11,>=2.10->tensorflow) (3.4)\n",
      "Requirement already satisfied: urllib3<1.27,>=1.21.1 in c:\\users\\vaibh\\appdata\\local\\programs\\python\\python310\\lib\\site-packages (from requests<3,>=2.21.0->tensorboard<2.11,>=2.10->tensorflow) (1.26.12)\n",
      "Requirement already satisfied: certifi>=2017.4.17 in c:\\users\\vaibh\\appdata\\local\\programs\\python\\python310\\lib\\site-packages (from requests<3,>=2.21.0->tensorboard<2.11,>=2.10->tensorflow) (2022.9.14)\n",
      "Requirement already satisfied: MarkupSafe>=2.1.1 in c:\\users\\vaibh\\appdata\\local\\programs\\python\\python310\\lib\\site-packages (from werkzeug>=1.0.1->tensorboard<2.11,>=2.10->tensorflow) (2.1.1)\n",
      "Requirement already satisfied: pyasn1<0.5.0,>=0.4.6 in c:\\users\\vaibh\\appdata\\local\\programs\\python\\python310\\lib\\site-packages (from pyasn1-modules>=0.2.1->google-auth<3,>=1.6.3->tensorboard<2.11,>=2.10->tensorflow) (0.4.8)\n",
      "Requirement already satisfied: oauthlib>=3.0.0 in c:\\users\\vaibh\\appdata\\local\\programs\\python\\python310\\lib\\site-packages (from requests-oauthlib>=0.7.0->google-auth-oauthlib<0.5,>=0.4.1->tensorboard<2.11,>=2.10->tensorflow) (3.2.1)\n"
     ]
    },
    {
     "name": "stdout",
     "output_type": "stream",
     "text": [
      "Requirement already satisfied: openpyxl in c:\\users\\vaibh\\appdata\\local\\programs\\python\\python310\\lib\\site-packages (3.0.10)\n",
      "Requirement already satisfied: et-xmlfile in c:\\users\\vaibh\\appdata\\local\\programs\\python\\python310\\lib\\site-packages (from openpyxl) (1.1.0)\n"
     ]
    }
   ],
   "source": [
    "!pip install pandas numpy scikit-learn tensorflow\n",
    "!pip install openpyxl\n"
   ]
  },
  {
   "cell_type": "code",
   "execution_count": 4,
   "id": "37263ad9",
   "metadata": {},
   "outputs": [],
   "source": [
    "import pandas as pd\n",
    "\n",
    "import numpy as np\n",
    "\n",
    "import matplotlib.pyplot as plt\n",
    "\n",
    "from sklearn.model_selection import train_test_split\n",
    "from sklearn.preprocessing import LabelEncoder\n",
    "\n",
    "from tensorflow.keras.preprocessing.text import Tokenizer\n",
    "from tensorflow.keras.preprocessing.sequence import pad_sequences\n",
    "from tensorflow.keras.models import Sequential\n",
    "from tensorflow.keras.layers import Embedding, Conv1D, GlobalMaxPooling1D, Dense"
   ]
  },
  {
   "cell_type": "code",
   "execution_count": 6,
   "id": "b3ffe795",
   "metadata": {},
   "outputs": [
    {
     "name": "stdout",
     "output_type": "stream",
     "text": [
      "label\n",
      "full_text\n",
      "digit\n"
     ]
    }
   ],
   "source": [
    "#Loading the dataset\n",
    "df = pd.read_csv(r\"DG_preprocessing.csv\")\n",
    "for col in df.columns:\n",
    "    print(col)"
   ]
  },
  {
   "cell_type": "code",
   "execution_count": 7,
   "id": "a1a563bf",
   "metadata": {},
   "outputs": [
    {
     "data": {
      "text/html": [
       "<div>\n",
       "<style scoped>\n",
       "    .dataframe tbody tr th:only-of-type {\n",
       "        vertical-align: middle;\n",
       "    }\n",
       "\n",
       "    .dataframe tbody tr th {\n",
       "        vertical-align: top;\n",
       "    }\n",
       "\n",
       "    .dataframe thead th {\n",
       "        text-align: right;\n",
       "    }\n",
       "</style>\n",
       "<table border=\"1\" class=\"dataframe\">\n",
       "  <thead>\n",
       "    <tr style=\"text-align: right;\">\n",
       "      <th></th>\n",
       "      <th>label</th>\n",
       "      <th>full_text</th>\n",
       "      <th>digit</th>\n",
       "    </tr>\n",
       "  </thead>\n",
       "  <tbody>\n",
       "    <tr>\n",
       "      <th>0</th>\n",
       "      <td>False</td>\n",
       "      <td>abortion says annies list political group supp...</td>\n",
       "      <td>0</td>\n",
       "    </tr>\n",
       "    <tr>\n",
       "      <th>1</th>\n",
       "      <td>True</td>\n",
       "      <td>energy history job accomplishments decline coa...</td>\n",
       "      <td>1</td>\n",
       "    </tr>\n",
       "    <tr>\n",
       "      <th>2</th>\n",
       "      <td>True</td>\n",
       "      <td>foreign policy hillary clinton agrees john mcc...</td>\n",
       "      <td>1</td>\n",
       "    </tr>\n",
       "    <tr>\n",
       "      <th>3</th>\n",
       "      <td>True</td>\n",
       "      <td>education chicago bears starting quarterbacks ...</td>\n",
       "      <td>1</td>\n",
       "    </tr>\n",
       "    <tr>\n",
       "      <th>4</th>\n",
       "      <td>True</td>\n",
       "      <td>ethics m person stage worked actively just las...</td>\n",
       "      <td>1</td>\n",
       "    </tr>\n",
       "  </tbody>\n",
       "</table>\n",
       "</div>"
      ],
      "text/plain": [
       "   label                                          full_text  digit\n",
       "0  False  abortion says annies list political group supp...      0\n",
       "1   True  energy history job accomplishments decline coa...      1\n",
       "2   True  foreign policy hillary clinton agrees john mcc...      1\n",
       "3   True  education chicago bears starting quarterbacks ...      1\n",
       "4   True  ethics m person stage worked actively just las...      1"
      ]
     },
     "execution_count": 7,
     "metadata": {},
     "output_type": "execute_result"
    }
   ],
   "source": [
    "df.head()"
   ]
  },
  {
   "cell_type": "code",
   "execution_count": 8,
   "id": "b226877e",
   "metadata": {},
   "outputs": [
    {
     "data": {
      "image/png": "[encoded data removed]",
      "text/plain": [
       "<Figure size 640x480 with 1 Axes>"
      ]
     },
     "metadata": {},
     "output_type": "display_data"
    }
   ],
   "source": [
    "df['label'].value_counts().plot.pie(autopct='%1.1f%%')\n",
    "plt.axis('equal')\n",
    "plt.show()\n"
   ]
  },
  {
   "cell_type": "code",
   "execution_count": 9,
   "id": "a2d73e2b",
   "metadata": {},
   "outputs": [
    {
     "data": {
      "text/html": [
       "<div>\n",
       "<style scoped>\n",
       "    .dataframe tbody tr th:only-of-type {\n",
       "        vertical-align: middle;\n",
       "    }\n",
       "\n",
       "    .dataframe tbody tr th {\n",
       "        vertical-align: top;\n",
       "    }\n",
       "\n",
       "    .dataframe thead th {\n",
       "        text-align: right;\n",
       "    }\n",
       "</style>\n",
       "<table border=\"1\" class=\"dataframe\">\n",
       "  <thead>\n",
       "    <tr style=\"text-align: right;\">\n",
       "      <th></th>\n",
       "      <th>label</th>\n",
       "      <th>full_text</th>\n",
       "      <th>digit</th>\n",
       "    </tr>\n",
       "  </thead>\n",
       "  <tbody>\n",
       "    <tr>\n",
       "      <th>0</th>\n",
       "      <td>False</td>\n",
       "      <td>abortion says annies list political group supp...</td>\n",
       "      <td>0</td>\n",
       "    </tr>\n",
       "    <tr>\n",
       "      <th>1</th>\n",
       "      <td>True</td>\n",
       "      <td>energy history job accomplishments decline coa...</td>\n",
       "      <td>1</td>\n",
       "    </tr>\n",
       "    <tr>\n",
       "      <th>2</th>\n",
       "      <td>True</td>\n",
       "      <td>foreign policy hillary clinton agrees john mcc...</td>\n",
       "      <td>1</td>\n",
       "    </tr>\n",
       "    <tr>\n",
       "      <th>3</th>\n",
       "      <td>True</td>\n",
       "      <td>education chicago bears starting quarterbacks ...</td>\n",
       "      <td>1</td>\n",
       "    </tr>\n",
       "    <tr>\n",
       "      <th>4</th>\n",
       "      <td>True</td>\n",
       "      <td>ethics m person stage worked actively just las...</td>\n",
       "      <td>1</td>\n",
       "    </tr>\n",
       "  </tbody>\n",
       "</table>\n",
       "</div>"
      ],
      "text/plain": [
       "   label                                          full_text  digit\n",
       "0  False  abortion says annies list political group supp...      0\n",
       "1   True  energy history job accomplishments decline coa...      1\n",
       "2   True  foreign policy hillary clinton agrees john mcc...      1\n",
       "3   True  education chicago bears starting quarterbacks ...      1\n",
       "4   True  ethics m person stage worked actively just las...      1"
      ]
     },
     "execution_count": 9,
     "metadata": {},
     "output_type": "execute_result"
    }
   ],
   "source": [
    "texts = df['full_text'].astype(str)\n",
    "labels = df['label']\n",
    "\n",
    "label_encoder = LabelEncoder()\n",
    "labels = label_encoder.fit_transform(labels)\n",
    "\n",
    "df.head()\n"
   ]
  },
  {
   "cell_type": "code",
   "execution_count": 10,
   "id": "e6ed1f25",
   "metadata": {},
   "outputs": [
    {
     "name": "stdout",
     "output_type": "stream",
     "text": [
      "0        False\n",
      "1         True\n",
      "2         True\n",
      "3         True\n",
      "4         True\n",
      "         ...  \n",
      "54032     True\n",
      "54033     True\n",
      "54034     True\n",
      "54035     True\n",
      "54036     True\n",
      "Name: label, Length: 54037, dtype: bool\n"
     ]
    }
   ],
   "source": [
    "print(df['label'])"
   ]
  },
  {
   "cell_type": "code",
   "execution_count": 11,
   "id": "8a8d5325",
   "metadata": {},
   "outputs": [],
   "source": [
    "# Test model 1:\n",
    "\n",
    "\n",
    "# train_texts, test_texts, train_labels, test_labels = train_test_split(texts, labels, test_size=0.2, random_state=42)\n",
    "\n",
    "# tokenizer = Tokenizer(num_words=10000)\n",
    "# tokenizer.fit_on_texts(train_texts)\n",
    "\n",
    "# train_sequences = tokenizer.texts_to_sequences(train_texts)\n",
    "# test_sequences = tokenizer.texts_to_sequences(test_texts)\n",
    "\n",
    "# max_sequence_length = max(len(seq) for seq in train_sequences)\n",
    "# train_data = pad_sequences(train_sequences, maxlen=max_sequence_length)\n",
    "# test_data = pad_sequences(test_sequences, maxlen=max_sequence_length)\n",
    "\n",
    "# model = Sequential()\n",
    "# model.add(Embedding(10000, 128, input_length=max_sequence_length))\n",
    "# model.add(Conv1D(128, 5, activation='relu'))\n",
    "# model.add(GlobalMaxPooling1D())\n",
    "# model.add(Dense(1, activation='sigmoid'))\n",
    "\n",
    "# model.compile(optimizer='adam', loss='binary_crossentropy', metrics=['accuracy'])\n",
    "\n",
    "# model.fit(train_data, train_labels, epochs=10, batch_size=16, validation_data=(test_data, test_labels))\n",
    "\n",
    "# _, accuracy = model.evaluate(test_data, test_labels)\n",
    "# print('Accuracy:', accuracy)\n"
   ]
  },
  {
   "cell_type": "code",
   "execution_count": 12,
   "id": "a14106be",
   "metadata": {},
   "outputs": [
    {
     "name": "stdout",
     "output_type": "stream",
     "text": [
      "Epoch 1/5\n",
      "2365/2365 [==============================] - 716s 302ms/step - loss: 0.1558 - accuracy: 0.9192 - val_loss: 0.1357 - val_accuracy: 0.9286\n",
      "Epoch 2/5\n",
      "2365/2365 [==============================] - 725s 306ms/step - loss: 0.0995 - accuracy: 0.9530 - val_loss: 0.1618 - val_accuracy: 0.9272\n",
      "Epoch 3/5\n",
      "2365/2365 [==============================] - 734s 310ms/step - loss: 0.0422 - accuracy: 0.9841 - val_loss: 0.1982 - val_accuracy: 0.9180\n",
      "Epoch 4/5\n",
      "2365/2365 [==============================] - 716s 303ms/step - loss: 0.0101 - accuracy: 0.9978 - val_loss: 0.2636 - val_accuracy: 0.9148\n",
      "Epoch 5/5\n",
      "2365/2365 [==============================] - 615s 260ms/step - loss: 0.0036 - accuracy: 0.9992 - val_loss: 0.3484 - val_accuracy: 0.9202\n",
      "507/507 [==============================] - 51s 100ms/step - loss: 0.3484 - accuracy: 0.9202\n",
      "Accuracy: 0.9202442765235901\n"
     ]
    }
   ],
   "source": [
    "train_texts, test_texts, train_labels, test_labels = train_test_split(texts, labels, test_size=0.3, random_state=42)\n",
    "\n",
    "tokenizer = Tokenizer(num_words=10000)\n",
    "tokenizer.fit_on_texts(train_texts)\n",
    "\n",
    "train_sequences = tokenizer.texts_to_sequences(train_texts)\n",
    "test_sequences = tokenizer.texts_to_sequences(test_texts)\n",
    "\n",
    "max_sequence_length = max(len(seq) for seq in train_sequences)\n",
    "train_data = pad_sequences(train_sequences, maxlen=max_sequence_length)\n",
    "test_data = pad_sequences(test_sequences, maxlen=max_sequence_length)\n",
    "\n",
    "model = Sequential()\n",
    "model.add(Embedding(10000, 128, input_length=max_sequence_length))\n",
    "model.add(Conv1D(128, 5, activation='relu'))\n",
    "model.add(GlobalMaxPooling1D())\n",
    "model.add(Dense(1, activation='sigmoid'))\n",
    "\n",
    "model.compile(optimizer='adam', loss='binary_crossentropy', metrics=['accuracy'])\n",
    "\n",
    "history = model.fit(train_data, train_labels, epochs=5, batch_size=16, validation_data=(test_data, test_labels))\n",
    "\n",
    "_, accuracy = model.evaluate(test_data, test_labels)\n",
    "print('Accuracy:', accuracy)\n"
   ]
  },
  {
   "cell_type": "code",
   "execution_count": 14,
   "id": "20cbaf4a",
   "metadata": {},
   "outputs": [
    {
     "data": {
      "image/png": "[encoded data removed]",
      "text/plain": [
       "<Figure size 640x480 with 1 Axes>"
      ]
     },
     "metadata": {},
     "output_type": "display_data"
    },
    {
     "name": "stdout",
     "output_type": "stream",
     "text": [
      "507/507 [==============================] - 51s 101ms/step\n"
     ]
    },
    {
     "data": {
      "image/png": "[encoded data removed]",
      "text/plain": [
       "<Figure size 640x480 with 1 Axes>"
      ]
     },
     "metadata": {},
     "output_type": "display_data"
    }
   ],
   "source": [
    "import matplotlib.pyplot as plt\n",
    "import seaborn as sns\n",
    "from sklearn.metrics import confusion_matrix\n",
    "\n",
    "# Train the model\n",
    "# history = model.fit(train_data, train_labels, epochs=10, batch_size=16, validation_data=(test_data, test_labels))\n",
    "\n",
    "# # Plot training and validation loss\n",
    "# plt.plot(history.history['loss'], label='Training Loss')\n",
    "# plt.plot(history.history['val_loss'], label='Validation Loss')\n",
    "# plt.xlabel('Epochs')\n",
    "# plt.ylabel('Loss')\n",
    "# plt.legend()\n",
    "# plt.show()\n",
    "\n",
    "# Plot training and validation accuracy\n",
    "plt.plot(history.history['accuracy'], label='Training Accuracy')\n",
    "plt.plot(history.history['val_accuracy'], label='Validation Accuracy')\n",
    "plt.xlabel('Epochs')\n",
    "plt.ylabel('Accuracy')\n",
    "plt.ylim(0.5, 1)\n",
    "plt.legend()\n",
    "plt.show()\n",
    "\n",
    "# Predict on test data\n",
    "predictions = model.predict(test_data)\n",
    "predicted_labels = [1 if pred >= 0.5 else 0 for pred in predictions]\n",
    "\n",
    "# Create confusion matrix\n",
    "cm = confusion_matrix(test_labels, predicted_labels)\n",
    "\n",
    "# Plot confusion matrix as heatmap\n",
    "sns.heatmap(cm, annot=True, fmt='d', cmap='Blues', cbar=False)\n",
    "plt.xlabel('Predicted Labels')\n",
    "plt.ylabel('True Labels')\n",
    "plt.title('Confusion Matrix')\n",
    "plt.show()\n"
   ]
  },
  {
   "cell_type": "code",
   "execution_count": 11,
   "id": "4cd24648",
   "metadata": {},
   "outputs": [],
   "source": [
    "# from sklearn.model_selection import train_test_split\n",
    "# from keras.models import Sequential\n",
    "# from keras.layers import Embedding, Conv1D, GlobalMaxPooling1D, Dense\n",
    "# from keras.preprocessing.text import Tokenizer\n",
    "# from keras.preprocessing.sequence import pad_sequences\n",
    "\n",
    "# # Preprocess the sentence (tokenize and pad it) using the same tokenizer used for training\n",
    "# sentence1 = ['candidates biography i m probably one of the four or five best known americans in the world 53 attorney republican ']\n",
    "# sentence2 = ['health care the american people support defunding obamacare and oppose shutting down the government 35 u s senator republican ']\n",
    "# sentence3 = ['veterans says hillary clinton said the veterans affairs scandal is over exaggerated she said she was satisfied with what was going on 49 president elect republican ']\n",
    "# sentence4 = ['federal budget health care the american healthcare system burns 18 percent of our national gdp nobody else is close 127 u s senator democrat ']\n",
    "# sentence5 = ['immigration says marco rubio is the one for an open border 176 candidate for u s senate and physician republican ']\n",
    "\n",
    "# # Tokenize the sentence using the tokenizer from training\n",
    "# sequences1 = tokenizer.texts_to_sequences(sentence1)\n",
    "# sequences2 = tokenizer.texts_to_sequences(sentence2)\n",
    "# sequences3 = tokenizer.texts_to_sequences(sentence3)\n",
    "# sequences4 = tokenizer.texts_to_sequences(sentence4)\n",
    "# sequences5 = tokenizer.texts_to_sequences(sentence5)\n",
    "\n",
    "# # Pad the sequence to the same length as used during training\n",
    "# X_test1 = pad_sequences(sequences1, maxlen=max_sequence_length)\n",
    "# X_test2 = pad_sequences(sequences2, maxlen=max_sequence_length)\n",
    "# X_test3 = pad_sequences(sequences3, maxlen=max_sequence_length)\n",
    "# X_test4 = pad_sequences(sequences4, maxlen=max_sequence_length)\n",
    "# X_test5 = pad_sequences(sequences5, maxlen=max_sequence_length)\n",
    "\n",
    "# # Make prediction\n",
    "# prediction1 = model.predict(X_test1)\n",
    "# prediction2 = model.predict(X_test2)\n",
    "# prediction3 = model.predict(X_test3)\n",
    "# prediction4 = model.predict(X_test4)\n",
    "# prediction5 = model.predict(X_test5)\n",
    "\n",
    "# print(\"The prediction for the sentence is:\", prediction1)\n",
    "# print(\"The prediction for the sentence is:\", prediction2)\n",
    "# print(\"The prediction for the sentence is:\", prediction3)\n",
    "# print(\"The prediction for the sentence is:\", prediction4)\n",
    "# print(\"The prediction for the sentence is:\", prediction5)"
   ]
  },
  {
   "cell_type": "code",
   "execution_count": 15,
   "id": "9580f35c",
   "metadata": {},
   "outputs": [
    {
     "name": "stdout",
     "output_type": "stream",
     "text": [
      "1/1 [==============================] - 0s 47ms/step\n",
      "1/1 [==============================] - 0s 38ms/step\n",
      "1/1 [==============================] - 0s 38ms/step\n",
      "1/1 [==============================] - 0s 36ms/step\n",
      "1/1 [==============================] - 0s 38ms/step\n",
      "The prediction for the first sentence is: [[1]]\n",
      "The prediction for the second sentence is: [[0]]\n",
      "The prediction for the third sentence is: [[0]]\n",
      "The prediction for the fourth sentence is: [[0]]\n",
      "The prediction for the fifth sentence is: [[0]]\n"
     ]
    }
   ],
   "source": [
    "from sklearn.model_selection import train_test_split\n",
    "from tensorflow.keras.models import Sequential\n",
    "from tensorflow.keras.layers import Embedding, Conv1D, GlobalMaxPooling1D, Dense\n",
    "from tensorflow.keras.preprocessing.text import Tokenizer\n",
    "from tensorflow.keras.preprocessing.sequence import pad_sequences\n",
    "\n",
    "# Assuming you have already trained and compiled the CNN model\n",
    "# Assuming you have a sentence to test named 'sentence'\n",
    "\n",
    "# Preprocess the sentence (tokenize and pad it) using the same tokenizer used for training\n",
    "sentence1 = ['candidates biography i m probably one of the four or five best known americans in the world 53 attorney republican ']\n",
    "sentence2 = ['health care the american people support defunding obamacare and oppose shutting down the government 35 u s senator republican ']\n",
    "sentence3 = ['veterans says hillary clinton said the veterans affairs scandal is over exaggerated she said she was satisfied with what was going on 49 president elect republican ']\n",
    "sentence4 = ['federal budget health care the american healthcare system burns 18 percent of our national gdp nobody else is close 127 u s senator democrat ']\n",
    "sentence5 = ['immigration says marco rubio is the one for an open border 176 candidate for u s senate and physician republican ']\n",
    "\n",
    "# Tokenize the sentence using the tokenizer from training\n",
    "sequences1 = tokenizer.texts_to_sequences(sentence1)\n",
    "sequences2 = tokenizer.texts_to_sequences(sentence2)\n",
    "sequences3 = tokenizer.texts_to_sequences(sentence3)\n",
    "sequences4 = tokenizer.texts_to_sequences(sentence4)\n",
    "sequences5 = tokenizer.texts_to_sequences(sentence5)\n",
    "\n",
    "# Pad the sequence to the same length as used during training\n",
    "X_test1 = pad_sequences(sequences1, maxlen=max_sequence_length)\n",
    "X_test2 = pad_sequences(sequences2, maxlen=max_sequence_length)\n",
    "X_test3 = pad_sequences(sequences3, maxlen=max_sequence_length)\n",
    "X_test4 = pad_sequences(sequences4, maxlen=max_sequence_length)\n",
    "X_test5 = pad_sequences(sequences5, maxlen=max_sequence_length)\n",
    "\n",
    "prediction1 = model.predict(X_test1)\n",
    "prediction2 = model.predict(X_test2)\n",
    "prediction3 = model.predict(X_test3)\n",
    "prediction4 = model.predict(X_test4)\n",
    "prediction5 = model.predict(X_test5)\n",
    "\n",
    "# Set a threshold for classification (e.g., 0.5)\n",
    "threshold = 0.5\n",
    "\n",
    "# Make prediction and convert probabilities to binary based on the threshold\n",
    "prediction1 = (prediction1 > threshold).astype(int)\n",
    "prediction2 = (prediction2 > threshold).astype(int)\n",
    "prediction3 = (prediction3 > threshold).astype(int)\n",
    "prediction4 = (prediction4 > threshold).astype(int)\n",
    "prediction5 = (prediction5 > threshold).astype(int)\n",
    "\n",
    "print(\"The prediction for the first sentence is:\", prediction1)\n",
    "print(\"The prediction for the second sentence is:\", prediction2)\n",
    "print(\"The prediction for the third sentence is:\", prediction3)\n",
    "print(\"The prediction for the fourth sentence is:\", prediction4)\n",
    "print(\"The prediction for the fifth sentence is:\", prediction5)\n",
    "\n",
    "\n",
    "\n"
   ]
  },
  {
   "cell_type": "code",
   "execution_count": 17,
   "id": "ba7b6e72",
   "metadata": {},
   "outputs": [
    {
     "data": {
      "image/png": "[encoded data removed]",
      "text/plain": [
       "<Figure size 640x480 with 1 Axes>"
      ]
     },
     "metadata": {},
     "output_type": "display_data"
    },
    {
     "name": "stdout",
     "output_type": "stream",
     "text": [
      "507/507 [==============================] - 70s 138ms/step\n"
     ]
    },
    {
     "data": {
      "image/png": "[encoded data removed]",
      "text/plain": [
       "<Figure size 640x480 with 1 Axes>"
      ]
     },
     "metadata": {},
     "output_type": "display_data"
    },
    {
     "name": "stdout",
     "output_type": "stream",
     "text": [
      "Classification Report:\n",
      "              precision    recall  f1-score   support\n",
      "\n",
      "        fake       0.94      0.89      0.92      7920\n",
      "        real       0.90      0.95      0.92      8292\n",
      "\n",
      "    accuracy                           0.92     16212\n",
      "   macro avg       0.92      0.92      0.92     16212\n",
      "weighted avg       0.92      0.92      0.92     16212\n",
      "\n",
      "Accuracy: 92.02%\n",
      "Precision (Fake): 94.08%\n",
      "Precision (Real): 90.25%\n",
      "Recall (Fake): 89.29%\n",
      "Recall (Real): 94.63%\n",
      "F1-Score (Fake): 91.62%\n",
      "F1-Score (Real): 92.39%\n",
      "Confusion Matrix:\n",
      "[[7072  848]\n",
      " [ 445 7847]]\n"
     ]
    }
   ],
   "source": [
    "import matplotlib.pyplot as plt\n",
    "import seaborn as sns\n",
    "from sklearn.metrics import confusion_matrix, classification_report, accuracy_score, precision_recall_fscore_support\n",
    "\n",
    "# Train the model\n",
    "# history = model.fit(train_data, train_labels, epochs=10, batch_size=16, validation_data=(test_data, test_labels))\n",
    "\n",
    "# Plot training and validation accuracy\n",
    "plt.plot(history.history['accuracy'], label='Training Accuracy')\n",
    "plt.plot(history.history['val_accuracy'], label='Validation Accuracy')\n",
    "plt.xlabel('Epochs')\n",
    "plt.ylabel('Accuracy')\n",
    "plt.ylim(0.5, 1)\n",
    "plt.legend()\n",
    "plt.show()\n",
    "\n",
    "# Predict on test data\n",
    "predictions = model.predict(test_data)\n",
    "predicted_labels = [1 if pred >= 0.5 else 0 for pred in predictions]\n",
    "\n",
    "# Create confusion matrix\n",
    "cm = confusion_matrix(test_labels, predicted_labels)\n",
    "\n",
    "# Plot confusion matrix as heatmap\n",
    "sns.heatmap(cm, annot=True, fmt='d', cmap='Blues', cbar=False)\n",
    "plt.xlabel('Predicted Labels')\n",
    "plt.ylabel('True Labels')\n",
    "plt.title('Confusion Matrix')\n",
    "plt.show()\n",
    "\n",
    "# Print classification report\n",
    "print(\"Classification Report:\")\n",
    "report = classification_report(test_labels, predicted_labels, target_names=['fake', 'real'])\n",
    "print(report)\n",
    "\n",
    "# Calculate and print accuracy\n",
    "accuracy = accuracy_score(test_labels, predicted_labels)\n",
    "print(\"Accuracy: {:.2f}%\".format(accuracy * 100))\n",
    "\n",
    "# Calculate precision, recall, and F1-score\n",
    "precision, recall, f1_score, _ = precision_recall_fscore_support(test_labels, predicted_labels, average=None)\n",
    "\n",
    "# Print precision, recall, and F1-score in percentage\n",
    "print(\"Precision (Fake): {:.2f}%\".format(precision[0] * 100))\n",
    "print(\"Precision (Real): {:.2f}%\".format(precision[1] * 100))\n",
    "print(\"Recall (Fake): {:.2f}%\".format(recall[0] * 100))\n",
    "print(\"Recall (Real): {:.2f}%\".format(recall[1] * 100))\n",
    "print(\"F1-Score (Fake): {:.2f}%\".format(f1_score[0] * 100))\n",
    "print(\"F1-Score (Real): {:.2f}%\".format(f1_score[1] * 100))\n",
    "\n",
    "# Print confusion matrix\n",
    "print(\"Confusion Matrix:\")\n",
    "print(cm)\n"
   ]
  },
  {
   "cell_type": "code",
   "execution_count": null,
   "id": "40212da6",
   "metadata": {},
   "outputs": [],
   "source": []
  }
 ],
 "metadata": {
  "kernelspec": {
   "display_name": "Python 3 (ipykernel)",
   "language": "python",
   "name": "python3"
  },
  "language_info": {
   "codemirror_mode": {
    "name": "ipython",
    "version": 3
   },
   "file_extension": ".py",
   "mimetype": "text/x-python",
   "name": "python",
   "nbconvert_exporter": "python",
   "pygments_lexer": "ipython3",
   "version": "3.10.7"
  }
 },
 "nbformat": 4,
 "nbformat_minor": 5
}
