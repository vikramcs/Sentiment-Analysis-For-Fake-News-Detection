{
 "cells": [
  {
   "cell_type": "code",
   "execution_count": 1,
   "id": "f68b786c",
   "metadata": {},
   "outputs": [],
   "source": [
    "# importing libraries\n",
    "\n",
    "import pandas as pd\n",
    "import numpy as np\n",
    "import matplotlib.pyplot as plt\n",
    "#Importing libraries\n",
    "import matplotlib.pyplot as plt\n",
    "import seaborn as sns\n",
    "import joblib\n",
    "from sklearn.feature_extraction.text import TfidfVectorizer\n",
    "from sklearn import metrics\n",
    "from sklearn.model_selection import train_test_split\n",
    "from sklearn.neighbors import KNeighborsClassifier \n",
    "from sklearn.metrics import accuracy_score, classification_report, confusion_matrix"
   ]
  },
  {
   "cell_type": "code",
   "execution_count": 2,
   "id": "859fe860",
   "metadata": {},
   "outputs": [
    {
     "data": {
      "text/html": [
       "<div>\n",
       "<style scoped>\n",
       "    .dataframe tbody tr th:only-of-type {\n",
       "        vertical-align: middle;\n",
       "    }\n",
       "\n",
       "    .dataframe tbody tr th {\n",
       "        vertical-align: top;\n",
       "    }\n",
       "\n",
       "    .dataframe thead th {\n",
       "        text-align: right;\n",
       "    }\n",
       "</style>\n",
       "<table border=\"1\" class=\"dataframe\">\n",
       "  <thead>\n",
       "    <tr style=\"text-align: right;\">\n",
       "      <th></th>\n",
       "      <th>ID</th>\n",
       "      <th>label</th>\n",
       "      <th>statement</th>\n",
       "      <th>subject</th>\n",
       "      <th>speaker</th>\n",
       "      <th>speaker_job</th>\n",
       "      <th>state_info</th>\n",
       "      <th>party_affiliation</th>\n",
       "      <th>barely_true_counts</th>\n",
       "      <th>false_counts</th>\n",
       "      <th>...</th>\n",
       "      <th>fear</th>\n",
       "      <th>joy</th>\n",
       "      <th>disgust</th>\n",
       "      <th>sad</th>\n",
       "      <th>speaker_id</th>\n",
       "      <th>list</th>\n",
       "      <th>sentiment_code</th>\n",
       "      <th>full_text</th>\n",
       "      <th>emotion</th>\n",
       "      <th>digit</th>\n",
       "    </tr>\n",
       "  </thead>\n",
       "  <tbody>\n",
       "    <tr>\n",
       "      <th>0</th>\n",
       "      <td>2635.json</td>\n",
       "      <td>False</td>\n",
       "      <td>Says the Annies List political group supports ...</td>\n",
       "      <td>abortion</td>\n",
       "      <td>dwayne-bohac</td>\n",
       "      <td>State representative</td>\n",
       "      <td>Texas</td>\n",
       "      <td>republican</td>\n",
       "      <td>0.0</td>\n",
       "      <td>1.0</td>\n",
       "      <td>...</td>\n",
       "      <td>0.008926</td>\n",
       "      <td>0.026096</td>\n",
       "      <td>0.263479</td>\n",
       "      <td>0.531887</td>\n",
       "      <td>_0_</td>\n",
       "      <td>[0, 1]</td>\n",
       "      <td>_NEG_</td>\n",
       "      <td>abortion says the annies list political group ...</td>\n",
       "      <td>[0.121137,0.263479,0.008926,0.026096,0.531887,...</td>\n",
       "      <td>0</td>\n",
       "    </tr>\n",
       "    <tr>\n",
       "      <th>1</th>\n",
       "      <td>10540.json</td>\n",
       "      <td>True</td>\n",
       "      <td>When did the decline of coal start? It started...</td>\n",
       "      <td>energy,history,job-accomplishments</td>\n",
       "      <td>scott-surovell</td>\n",
       "      <td>State delegate</td>\n",
       "      <td>Virginia</td>\n",
       "      <td>democrat</td>\n",
       "      <td>0.0</td>\n",
       "      <td>0.0</td>\n",
       "      <td>...</td>\n",
       "      <td>0.124566</td>\n",
       "      <td>0.191357</td>\n",
       "      <td>0.016999</td>\n",
       "      <td>0.102045</td>\n",
       "      <td>_1_</td>\n",
       "      <td>[0, 1]</td>\n",
       "      <td>_NEG_</td>\n",
       "      <td>energy history job accomplishments when did th...</td>\n",
       "      <td>[0.095352,0.016999,0.124566,0.191357,0.102045,...</td>\n",
       "      <td>1</td>\n",
       "    </tr>\n",
       "    <tr>\n",
       "      <th>2</th>\n",
       "      <td>324.json</td>\n",
       "      <td>True</td>\n",
       "      <td>Hillary Clinton agrees with John McCain \"by vo...</td>\n",
       "      <td>foreign-policy</td>\n",
       "      <td>barack-obama</td>\n",
       "      <td>President</td>\n",
       "      <td>Illinois</td>\n",
       "      <td>democrat</td>\n",
       "      <td>70.0</td>\n",
       "      <td>71.0</td>\n",
       "      <td>...</td>\n",
       "      <td>0.024162</td>\n",
       "      <td>0.500384</td>\n",
       "      <td>0.454228</td>\n",
       "      <td>0.052453</td>\n",
       "      <td>_2_</td>\n",
       "      <td>[1, 0]</td>\n",
       "      <td>_NEG_</td>\n",
       "      <td>foreign policy hillary clinton agrees with joh...</td>\n",
       "      <td>[0.039559,0.454228,0.024162,0.500384,0.052453,...</td>\n",
       "      <td>1</td>\n",
       "    </tr>\n",
       "    <tr>\n",
       "      <th>3</th>\n",
       "      <td>1123.json</td>\n",
       "      <td>True</td>\n",
       "      <td>Health care reform legislation is likely to ma...</td>\n",
       "      <td>health-care</td>\n",
       "      <td>blog-posting</td>\n",
       "      <td>NaN</td>\n",
       "      <td>NaN</td>\n",
       "      <td>none</td>\n",
       "      <td>7.0</td>\n",
       "      <td>19.0</td>\n",
       "      <td>...</td>\n",
       "      <td>0.194674</td>\n",
       "      <td>0.375055</td>\n",
       "      <td>0.022509</td>\n",
       "      <td>0.383403</td>\n",
       "      <td>_3_</td>\n",
       "      <td>[0, 1]</td>\n",
       "      <td>_NEG_</td>\n",
       "      <td>NaN</td>\n",
       "      <td>[0.004804,0.022509,0.194674,0.375055,0.383403,...</td>\n",
       "      <td>1</td>\n",
       "    </tr>\n",
       "    <tr>\n",
       "      <th>4</th>\n",
       "      <td>9028.json</td>\n",
       "      <td>True</td>\n",
       "      <td>The economic turnaround started at the end of ...</td>\n",
       "      <td>economy,jobs</td>\n",
       "      <td>charlie-crist</td>\n",
       "      <td>NaN</td>\n",
       "      <td>Florida</td>\n",
       "      <td>democrat</td>\n",
       "      <td>15.0</td>\n",
       "      <td>9.0</td>\n",
       "      <td>...</td>\n",
       "      <td>0.215996</td>\n",
       "      <td>0.222402</td>\n",
       "      <td>0.045672</td>\n",
       "      <td>0.274343</td>\n",
       "      <td>_4_</td>\n",
       "      <td>[0, 1]</td>\n",
       "      <td>NaN</td>\n",
       "      <td>NaN</td>\n",
       "      <td>[0.044237,0.045672,0.215996,0.222402,0.274343,...</td>\n",
       "      <td>1</td>\n",
       "    </tr>\n",
       "  </tbody>\n",
       "</table>\n",
       "<p>5 rows × 28 columns</p>\n",
       "</div>"
      ],
      "text/plain": [
       "           ID  label                                          statement  \\\n",
       "0   2635.json  False  Says the Annies List political group supports ...   \n",
       "1  10540.json   True  When did the decline of coal start? It started...   \n",
       "2    324.json   True  Hillary Clinton agrees with John McCain \"by vo...   \n",
       "3   1123.json   True  Health care reform legislation is likely to ma...   \n",
       "4   9028.json   True  The economic turnaround started at the end of ...   \n",
       "\n",
       "                              subject         speaker           speaker_job  \\\n",
       "0                            abortion    dwayne-bohac  State representative   \n",
       "1  energy,history,job-accomplishments  scott-surovell        State delegate   \n",
       "2                      foreign-policy    barack-obama             President   \n",
       "3                         health-care    blog-posting                   NaN   \n",
       "4                        economy,jobs   charlie-crist                   NaN   \n",
       "\n",
       "  state_info party_affiliation  barely_true_counts  false_counts  ...  \\\n",
       "0      Texas        republican                 0.0           1.0  ...   \n",
       "1   Virginia          democrat                 0.0           0.0  ...   \n",
       "2   Illinois          democrat                70.0          71.0  ...   \n",
       "3        NaN              none                 7.0          19.0  ...   \n",
       "4    Florida          democrat                15.0           9.0  ...   \n",
       "\n",
       "       fear       joy   disgust       sad speaker_id    list  sentiment_code  \\\n",
       "0  0.008926  0.026096  0.263479  0.531887        _0_  [0, 1]           _NEG_   \n",
       "1  0.124566  0.191357  0.016999  0.102045        _1_  [0, 1]           _NEG_   \n",
       "2  0.024162  0.500384  0.454228  0.052453        _2_  [1, 0]           _NEG_   \n",
       "3  0.194674  0.375055  0.022509  0.383403        _3_  [0, 1]           _NEG_   \n",
       "4  0.215996  0.222402  0.045672  0.274343        _4_  [0, 1]             NaN   \n",
       "\n",
       "                                           full_text  \\\n",
       "0  abortion says the annies list political group ...   \n",
       "1  energy history job accomplishments when did th...   \n",
       "2  foreign policy hillary clinton agrees with joh...   \n",
       "3                                                NaN   \n",
       "4                                                NaN   \n",
       "\n",
       "                                             emotion  digit  \n",
       "0  [0.121137,0.263479,0.008926,0.026096,0.531887,...      0  \n",
       "1  [0.095352,0.016999,0.124566,0.191357,0.102045,...      1  \n",
       "2  [0.039559,0.454228,0.024162,0.500384,0.052453,...      1  \n",
       "3  [0.004804,0.022509,0.194674,0.375055,0.383403,...      1  \n",
       "4  [0.044237,0.045672,0.215996,0.222402,0.274343,...      1  \n",
       "\n",
       "[5 rows x 28 columns]"
      ]
     },
     "execution_count": 2,
     "metadata": {},
     "output_type": "execute_result"
    }
   ],
   "source": [
    "#Loading the dataset\n",
    "df = pd.read_csv(r\"fake_news_merged_final.csv\")\n",
    "df.head()"
   ]
  },
  {
   "cell_type": "code",
   "execution_count": 3,
   "id": "f8af918d",
   "metadata": {},
   "outputs": [
    {
     "data": {
      "text/plain": [
       "ID                         0\n",
       "label                      0\n",
       "statement                  0\n",
       "subject                    0\n",
       "speaker                    0\n",
       "speaker_job             3563\n",
       "state_info              2746\n",
       "party_affiliation          0\n",
       "barely_true_counts         0\n",
       "false_counts               0\n",
       "half_true_counts           0\n",
       "mostly_true_counts         0\n",
       "pants_on_fire_counts       0\n",
       "context                  129\n",
       "sentiment               1717\n",
       "sentiment_score            0\n",
       "sentiment_magnitude        0\n",
       "anger                      0\n",
       "fear                       0\n",
       "joy                        0\n",
       "disgust                    0\n",
       "sad                        0\n",
       "speaker_id                 0\n",
       "list                       0\n",
       "sentiment_code          1717\n",
       "full_text                  0\n",
       "emotion                    0\n",
       "digit                      0\n",
       "dtype: int64"
      ]
     },
     "execution_count": 3,
     "metadata": {},
     "output_type": "execute_result"
    }
   ],
   "source": [
    "df['full_text'] = df['full_text'].fillna('')\n",
    "df['full_text'][1]\n",
    "\n",
    "df.isnull().sum()"
   ]
  },
  {
   "cell_type": "code",
   "execution_count": 4,
   "id": "5de856a6",
   "metadata": {},
   "outputs": [
    {
     "name": "stdout",
     "output_type": "stream",
     "text": [
      "[False  True]\n"
     ]
    }
   ],
   "source": [
    "unique_labels = df['label'].unique()\n",
    "print(unique_labels)"
   ]
  },
  {
   "cell_type": "code",
   "execution_count": 5,
   "id": "d2db083a",
   "metadata": {},
   "outputs": [],
   "source": [
    "# # Count the number of null values in 'label' column\n",
    "# null_count = df['label'].isnull().sum()\n",
    "\n",
    "# # Calculate the number of fake and real values to assign to null values\n",
    "# fake_count = df['label'].value_counts()['false']\n",
    "# real_count = df['label'].value_counts()['true']\n",
    "\n",
    "# # Randomly assign 'true' or 'false' to null values\n",
    "# random_labels = np.random.choice(['true', 'false'], size=null_count, p=[real_count/(real_count+fake_count), fake_count/(real_count+fake_count)])\n",
    "\n",
    "# # Replace the null values with the randomly assigned labels\n",
    "# df.loc[df['label'].isnull(), 'label'] = random_labels\n",
    "\n",
    "# # Verify the updated distribution of labels\n",
    "# label_counts = df['label'].value_counts()\n",
    "# print(\"Updated label distribution:\\n\", label_counts)\n"
   ]
  },
  {
   "cell_type": "code",
   "execution_count": 6,
   "id": "b12db5ff",
   "metadata": {},
   "outputs": [
    {
     "data": {
      "text/plain": [
       "ID                         0\n",
       "label                      0\n",
       "statement                  0\n",
       "subject                    0\n",
       "speaker                    0\n",
       "speaker_job             3563\n",
       "state_info              2746\n",
       "party_affiliation          0\n",
       "barely_true_counts         0\n",
       "false_counts               0\n",
       "half_true_counts           0\n",
       "mostly_true_counts         0\n",
       "pants_on_fire_counts       0\n",
       "context                  129\n",
       "sentiment               1717\n",
       "sentiment_score            0\n",
       "sentiment_magnitude        0\n",
       "anger                      0\n",
       "fear                       0\n",
       "joy                        0\n",
       "disgust                    0\n",
       "sad                        0\n",
       "speaker_id                 0\n",
       "list                       0\n",
       "sentiment_code          1717\n",
       "full_text                  0\n",
       "emotion                    0\n",
       "digit                      0\n",
       "dtype: int64"
      ]
     },
     "execution_count": 6,
     "metadata": {},
     "output_type": "execute_result"
    }
   ],
   "source": [
    "df.isnull().sum()"
   ]
  },
  {
   "cell_type": "code",
   "execution_count": 91,
   "id": "19c86f4b",
   "metadata": {},
   "outputs": [],
   "source": [
    "#Performing text vectorization\n",
    "Vectorizer = TfidfVectorizer()\n",
    "X = Vectorizer.fit_transform(df['full_text'])\n",
    "y = df['label']\n",
    "\n",
    "# print(X_Train)\n",
    "# print(X_Test)"
   ]
  },
  {
   "cell_type": "code",
   "execution_count": 92,
   "id": "b1648e2d",
   "metadata": {},
   "outputs": [],
   "source": [
    "# Splitting the dataset into the Training set and Test set\n",
    "from sklearn.model_selection  import train_test_split\n",
    "X_train, X_test, y_train, y_test = train_test_split(X, y, test_size = 0.20, random_state = 5)"
   ]
  },
  {
   "cell_type": "code",
   "execution_count": 93,
   "id": "33011a2a",
   "metadata": {},
   "outputs": [],
   "source": [
    "# from sklearn.decomposition import TruncatedSVD\n",
    "# import numpy as np\n",
    "\n",
    "# # Perform TruncatedSVD\n",
    "# svd = TruncatedSVD(n_components=100)  # Specify the desired number of components\n",
    "# X_svd = svd.fit_transform(X)\n",
    "\n",
    "# # Plot explained variance ratio\n",
    "# explained_variance_ratio = np.cumsum(svd.explained_variance_ratio_)\n",
    "# plt.plot(explained_variance_ratio)\n",
    "# plt.xlabel('Number of Components')\n",
    "# plt.ylabel('Cumulative Explained Variance')\n",
    "# plt.xlim([1, 100])\n",
    "# plt.show()\n"
   ]
  },
  {
   "cell_type": "code",
   "execution_count": 94,
   "id": "a735d3e0",
   "metadata": {},
   "outputs": [],
   "source": [
    "# #Using Principal Dimensional Reduction\n",
    "# from sklearn.decomposition import PCA\n",
    "# pca = PCA(n_components = 4)"
   ]
  },
  {
   "cell_type": "code",
   "execution_count": 95,
   "id": "e5bf60df",
   "metadata": {},
   "outputs": [],
   "source": [
    "# from sklearn.decomposition import TruncatedSVD\n",
    "# import pandas as pd\n",
    "\n",
    "# # Create an instance of TruncatedSVD\n",
    "# svd = TruncatedSVD(n_components=100)  # Specify the desired number of components\n",
    "\n",
    "# # Fit and transform the training data\n",
    "# X_train = svd.fit_transform(X_train)\n",
    "\n",
    "# # Transform the test data\n",
    "# X_test = svd.transform(X_test)\n",
    "\n",
    "# # Get the explained variance ratio\n",
    "# explained_variance = svd.explained_variance_ratio_\n",
    "\n",
    "# # Create a DataFrame to store the explained variance\n",
    "# pca_df = pd.DataFrame(explained_variance)\n"
   ]
  },
  {
   "cell_type": "code",
   "execution_count": 96,
   "id": "2e148370",
   "metadata": {},
   "outputs": [
    {
     "data": {
      "text/html": [
       "<style>#sk-container-id-7 {color: black;background-color: white;}#sk-container-id-7 pre{padding: 0;}#sk-container-id-7 div.sk-toggleable {background-color: white;}#sk-container-id-7 label.sk-toggleable__label {cursor: pointer;display: block;width: 100%;margin-bottom: 0;padding: 0.3em;box-sizing: border-box;text-align: center;}#sk-container-id-7 label.sk-toggleable__label-arrow:before {content: \"▸\";float: left;margin-right: 0.25em;color: #696969;}#sk-container-id-7 label.sk-toggleable__label-arrow:hover:before {color: black;}#sk-container-id-7 div.sk-estimator:hover label.sk-toggleable__label-arrow:before {color: black;}#sk-container-id-7 div.sk-toggleable__content {max-height: 0;max-width: 0;overflow: hidden;text-align: left;background-color: #f0f8ff;}#sk-container-id-7 div.sk-toggleable__content pre {margin: 0.2em;color: black;border-radius: 0.25em;background-color: #f0f8ff;}#sk-container-id-7 input.sk-toggleable__control:checked~div.sk-toggleable__content {max-height: 200px;max-width: 100%;overflow: auto;}#sk-container-id-7 input.sk-toggleable__control:checked~label.sk-toggleable__label-arrow:before {content: \"▾\";}#sk-container-id-7 div.sk-estimator input.sk-toggleable__control:checked~label.sk-toggleable__label {background-color: #d4ebff;}#sk-container-id-7 div.sk-label input.sk-toggleable__control:checked~label.sk-toggleable__label {background-color: #d4ebff;}#sk-container-id-7 input.sk-hidden--visually {border: 0;clip: rect(1px 1px 1px 1px);clip: rect(1px, 1px, 1px, 1px);height: 1px;margin: -1px;overflow: hidden;padding: 0;position: absolute;width: 1px;}#sk-container-id-7 div.sk-estimator {font-family: monospace;background-color: #f0f8ff;border: 1px dotted black;border-radius: 0.25em;box-sizing: border-box;margin-bottom: 0.5em;}#sk-container-id-7 div.sk-estimator:hover {background-color: #d4ebff;}#sk-container-id-7 div.sk-parallel-item::after {content: \"\";width: 100%;border-bottom: 1px solid gray;flex-grow: 1;}#sk-container-id-7 div.sk-label:hover label.sk-toggleable__label {background-color: #d4ebff;}#sk-container-id-7 div.sk-serial::before {content: \"\";position: absolute;border-left: 1px solid gray;box-sizing: border-box;top: 0;bottom: 0;left: 50%;z-index: 0;}#sk-container-id-7 div.sk-serial {display: flex;flex-direction: column;align-items: center;background-color: white;padding-right: 0.2em;padding-left: 0.2em;position: relative;}#sk-container-id-7 div.sk-item {position: relative;z-index: 1;}#sk-container-id-7 div.sk-parallel {display: flex;align-items: stretch;justify-content: center;background-color: white;position: relative;}#sk-container-id-7 div.sk-item::before, #sk-container-id-7 div.sk-parallel-item::before {content: \"\";position: absolute;border-left: 1px solid gray;box-sizing: border-box;top: 0;bottom: 0;left: 50%;z-index: -1;}#sk-container-id-7 div.sk-parallel-item {display: flex;flex-direction: column;z-index: 1;position: relative;background-color: white;}#sk-container-id-7 div.sk-parallel-item:first-child::after {align-self: flex-end;width: 50%;}#sk-container-id-7 div.sk-parallel-item:last-child::after {align-self: flex-start;width: 50%;}#sk-container-id-7 div.sk-parallel-item:only-child::after {width: 0;}#sk-container-id-7 div.sk-dashed-wrapped {border: 1px dashed gray;margin: 0 0.4em 0.5em 0.4em;box-sizing: border-box;padding-bottom: 0.4em;background-color: white;}#sk-container-id-7 div.sk-label label {font-family: monospace;font-weight: bold;display: inline-block;line-height: 1.2em;}#sk-container-id-7 div.sk-label-container {text-align: center;}#sk-container-id-7 div.sk-container {/* jupyter's `normalize.less` sets `[hidden] { display: none; }` but bootstrap.min.css set `[hidden] { display: none !important; }` so we also need the `!important` here to be able to override the default hidden behavior on the sphinx rendered scikit-learn.org. See: https://github.com/scikit-learn/scikit-learn/issues/21755 */display: inline-block !important;position: relative;}#sk-container-id-7 div.sk-text-repr-fallback {display: none;}</style><div id=\"sk-container-id-7\" class=\"sk-top-container\"><div class=\"sk-text-repr-fallback\"><pre>KNeighborsClassifier(n_neighbors=3)</pre><b>In a Jupyter environment, please rerun this cell to show the HTML representation or trust the notebook. <br />On GitHub, the HTML representation is unable to render, please try loading this page with nbviewer.org.</b></div><div class=\"sk-container\" hidden><div class=\"sk-item\"><div class=\"sk-estimator sk-toggleable\"><input class=\"sk-toggleable__control sk-hidden--visually\" id=\"sk-estimator-id-7\" type=\"checkbox\" checked><label for=\"sk-estimator-id-7\" class=\"sk-toggleable__label sk-toggleable__label-arrow\">KNeighborsClassifier</label><div class=\"sk-toggleable__content\"><pre>KNeighborsClassifier(n_neighbors=3)</pre></div></div></div></div></div>"
      ],
      "text/plain": [
       "KNeighborsClassifier(n_neighbors=3)"
      ]
     },
     "execution_count": 96,
     "metadata": {},
     "output_type": "execute_result"
    }
   ],
   "source": [
    "#Creating and train the Decision Tree model\n",
    "KNNModel = KNeighborsClassifier(n_neighbors=3)  \n",
    "KNNModel.fit(X_train, y_train)"
   ]
  },
  {
   "cell_type": "code",
   "execution_count": 97,
   "id": "4b34360e",
   "metadata": {},
   "outputs": [],
   "source": [
    "#Making predictions on the testing set\n",
    "Y_Pred = KNNModel.predict(X_test)"
   ]
  },
  {
   "cell_type": "code",
   "execution_count": 98,
   "id": "e515d06b",
   "metadata": {},
   "outputs": [
    {
     "name": "stdout",
     "output_type": "stream",
     "text": [
      "Classification Report:\n",
      "              precision    recall  f1-score   support\n",
      "\n",
      "        fake       0.45      0.02      0.05      1002\n",
      "        real       0.61      0.98      0.75      1556\n",
      "\n",
      "    accuracy                           0.61      2558\n",
      "   macro avg       0.53      0.50      0.40      2558\n",
      "weighted avg       0.55      0.61      0.48      2558\n",
      "\n",
      "Accuracy: 60.63%\n",
      "Precision (Fake): 45.45%\n",
      "Precision (Real): 60.97%\n",
      "Recall (Fake): 2.50%\n",
      "Recall (Real): 98.07%\n",
      "F1-Score (Fake): 4.73%\n",
      "F1-Score (Real): 75.19%\n"
     ]
    }
   ],
   "source": [
    "from sklearn.metrics import classification_report, accuracy_score, precision_recall_fscore_support\n",
    "\n",
    "# Print classification report\n",
    "print(\"Classification Report:\")\n",
    "report = classification_report(y_test, Y_Pred, target_names=['fake', 'real'])\n",
    "print(report)\n",
    "\n",
    "# Calculate and print accuracy\n",
    "accuracy = accuracy_score(y_test, Y_Pred)\n",
    "print(\"Accuracy: {:.2f}%\".format(accuracy * 100))\n",
    "\n",
    "# Calculate precision, recall, and F1-score\n",
    "precision, recall, f1_score, _ = precision_recall_fscore_support(y_test, Y_Pred, average=None)\n",
    "\n",
    "# Print precision, recall, and F1-score in percentage\n",
    "print(\"Precision (Fake): {:.2f}%\".format(precision[0] * 100))\n",
    "print(\"Precision (Real): {:.2f}%\".format(precision[1] * 100))\n",
    "print(\"Recall (Fake): {:.2f}%\".format(recall[0] * 100))\n",
    "print(\"Recall (Real): {:.2f}%\".format(recall[1] * 100))\n",
    "print(\"F1-Score (Fake): {:.2f}%\".format(f1_score[0] * 100))\n",
    "print(\"F1-Score (Real): {:.2f}%\".format(f1_score[1] * 100))"
   ]
  },
  {
   "cell_type": "code",
   "execution_count": null,
   "id": "49f37a64",
   "metadata": {},
   "outputs": [],
   "source": []
  },
  {
   "cell_type": "code",
   "execution_count": 99,
   "id": "2ea10e41",
   "metadata": {},
   "outputs": [
    {
     "data": {
      "text/plain": [
       "0        False\n",
       "1         True\n",
       "2         True\n",
       "3         True\n",
       "4         True\n",
       "         ...  \n",
       "12781     True\n",
       "12782     True\n",
       "12783    False\n",
       "12784     True\n",
       "12785    False\n",
       "Name: label, Length: 12786, dtype: bool"
      ]
     },
     "execution_count": 99,
     "metadata": {},
     "output_type": "execute_result"
    }
   ],
   "source": [
    "df['label']"
   ]
  },
  {
   "cell_type": "code",
   "execution_count": 104,
   "id": "fe5d5b9f",
   "metadata": {},
   "outputs": [
    {
     "name": "stdout",
     "output_type": "stream",
     "text": [
      "The first statement prediction is:  [False]\n",
      "The second statement prediction is:  [ True]\n"
     ]
    }
   ],
   "source": [
    "# Assuming you have a trained KNN model named 'KNNModel'\n",
    "# Assuming you have a sentence to test named 'sentence'\n",
    "# Assuming you have the vectorizer used for training named 'Vectorizer'\n",
    "\n",
    "# Preprocess the sentence (vectorize it) using the same vectorizer used for training\n",
    "X_test = Vectorizer.transform(['health care states says the paperback edition of mitt romneys book deleted line that massachusetts individual mandate should be the model for the country 42 governor republican '])\n",
    "X_test2 = Vectorizer.transform(['energy history job accomplishments when did the decline of coal start it started when natural gas took off that started to begin in president george w bushs administration 1 state delegate democrat '])\n",
    "# Make prediction\n",
    "prediction = KNNModel.predict(X_test)\n",
    "prediction2 = KNNModel.predict(X_test2)\n",
    "\n",
    "print(\"The first statement prediction is: \",prediction)\n",
    "print(\"The second statement prediction is: \",prediction2)"
   ]
  },
  {
   "cell_type": "code",
   "execution_count": 112,
   "id": "0734a8ef",
   "metadata": {},
   "outputs": [
    {
     "name": "stdout",
     "output_type": "stream",
     "text": [
      "This is a : Fake News\n"
     ]
    }
   ],
   "source": [
    "if prediction[0] == False:\n",
    "    result = 'Fake News'\n",
    "else:\n",
    "    result = 'Real News'\n",
    "print(\"This is a : \"+result)"
   ]
  },
  {
   "cell_type": "markdown",
   "id": "0b98ac66",
   "metadata": {},
   "source": [
    "## Checking if model is overfitting or not"
   ]
  },
  {
   "cell_type": "code",
   "execution_count": 111,
   "id": "4119cd67",
   "metadata": {},
   "outputs": [
    {
     "name": "stdout",
     "output_type": "stream",
     "text": [
      "k = 3\n",
      "Training Accuracy: 0.6285686351192804\n",
      "Test Accuracy: 0.6102423768569195\n",
      "-------------------\n",
      "k = 5\n",
      "Training Accuracy: 0.624168947985921\n",
      "Test Accuracy: 0.49765441751368256\n",
      "-------------------\n",
      "k = 7\n",
      "Training Accuracy: 0.6489049667579194\n",
      "Test Accuracy: 0.5602032838154808\n",
      "-------------------\n",
      "k = 9\n",
      "Training Accuracy: 0.6403989049667579\n",
      "Test Accuracy: 0.5582486317435497\n",
      "-------------------\n"
     ]
    },
    {
     "data": {
      "image/png": "[encoded data removed]",
      "text/plain": [
       "<Figure size 640x480 with 1 Axes>"
      ]
     },
     "metadata": {},
     "output_type": "display_data"
    },
    {
     "name": "stdout",
     "output_type": "stream",
     "text": [
      "The model is overfitting.\n"
     ]
    }
   ],
   "source": [
    "import matplotlib.pyplot as plt\n",
    "from sklearn.model_selection import train_test_split\n",
    "from sklearn.neighbors import KNeighborsClassifier\n",
    "from sklearn.metrics import accuracy_score\n",
    "\n",
    "# Split the data into training and test sets\n",
    "X_train, X_test, y_train, y_test = train_test_split(X, y, test_size=0.2, random_state=42)\n",
    "\n",
    "# Define a list of k values\n",
    "k_values = [3, 5, 7, 9]\n",
    "\n",
    "# Initialize lists to store the training and testing accuracies\n",
    "train_accuracies = []\n",
    "test_accuracies = []\n",
    "\n",
    "for k in k_values:\n",
    "    # Create and train the KNN model\n",
    "    knn_model = KNeighborsClassifier(n_neighbors=k)\n",
    "    knn_model.fit(X_train, y_train)\n",
    "\n",
    "    # Calculate the accuracy on the training set\n",
    "    train_accuracy = accuracy_score(y_train, knn_model.predict(X_train))\n",
    "    train_accuracies.append(train_accuracy)\n",
    "\n",
    "    # Calculate the accuracy on the test set\n",
    "    test_accuracy = accuracy_score(y_test, knn_model.predict(X_test))\n",
    "    test_accuracies.append(test_accuracy)\n",
    "\n",
    "    # Print the k value and the accuracies\n",
    "    print(\"k =\", k)\n",
    "    print(\"Training Accuracy:\", train_accuracy)\n",
    "    print(\"Test Accuracy:\", test_accuracy)\n",
    "    print(\"-------------------\")\n",
    "\n",
    "# Plot the training and testing accuracies\n",
    "plt.plot(k_values, train_accuracies, label='Training Accuracy')\n",
    "plt.plot(k_values, test_accuracies, label='Test Accuracy')\n",
    "plt.xlabel('k')\n",
    "plt.ylabel('Accuracy')\n",
    "plt.title('Training and Test Accuracies for Different k Values')\n",
    "plt.legend()\n",
    "plt.show()\n",
    "\n",
    "# Check if the model is overfitting\n",
    "if max(train_accuracies) > max(test_accuracies):\n",
    "    print(\"The model is overfitting.\")\n",
    "else:\n",
    "    print(\"The model is not overfitting.\")\n"
   ]
  },
  {
   "cell_type": "code",
   "execution_count": null,
   "id": "eef8b177",
   "metadata": {},
   "outputs": [],
   "source": []
  }
 ],
 "metadata": {
  "kernelspec": {
   "display_name": "Python 3 (ipykernel)",
   "language": "python",
   "name": "python3"
  },
  "language_info": {
   "codemirror_mode": {
    "name": "ipython",
    "version": 3
   },
   "file_extension": ".py",
   "mimetype": "text/x-python",
   "name": "python",
   "nbconvert_exporter": "python",
   "pygments_lexer": "ipython3",
   "version": "3.10.7"
  }
 },
 "nbformat": 4,
 "nbformat_minor": 5
}
