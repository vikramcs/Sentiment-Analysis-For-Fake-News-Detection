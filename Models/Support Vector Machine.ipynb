{
 "cells": [
  {
   "cell_type": "code",
   "execution_count": 1,
   "id": "4db9e0bb",
   "metadata": {},
   "outputs": [],
   "source": [
    "#Importing libraries\n",
    "import pandas as pd\n",
    "import numpy as np\n",
    "import matplotlib.pyplot as plt\n",
    "import seaborn as sns\n",
    "import joblib\n",
    "from sklearn.feature_extraction.text import TfidfVectorizer\n",
    "from sklearn import metrics\n",
    "from sklearn.model_selection import train_test_split\n",
    "from sklearn.svm import SVC\n",
    "from sklearn.metrics import accuracy_score, classification_report, confusion_matrix"
   ]
  },
  {
   "cell_type": "code",
   "execution_count": 2,
   "id": "3523c6f3",
   "metadata": {},
   "outputs": [
    {
     "data": {
      "text/html": [
       "<div>\n",
       "<style scoped>\n",
       "    .dataframe tbody tr th:only-of-type {\n",
       "        vertical-align: middle;\n",
       "    }\n",
       "\n",
       "    .dataframe tbody tr th {\n",
       "        vertical-align: top;\n",
       "    }\n",
       "\n",
       "    .dataframe thead th {\n",
       "        text-align: right;\n",
       "    }\n",
       "</style>\n",
       "<table border=\"1\" class=\"dataframe\">\n",
       "  <thead>\n",
       "    <tr style=\"text-align: right;\">\n",
       "      <th></th>\n",
       "      <th>ID</th>\n",
       "      <th>label</th>\n",
       "      <th>statement</th>\n",
       "      <th>subject</th>\n",
       "      <th>speaker</th>\n",
       "      <th>speaker_job</th>\n",
       "      <th>state_info</th>\n",
       "      <th>party_affiliation</th>\n",
       "      <th>barely_true_counts</th>\n",
       "      <th>false_counts</th>\n",
       "      <th>...</th>\n",
       "      <th>fear</th>\n",
       "      <th>joy</th>\n",
       "      <th>disgust</th>\n",
       "      <th>sad</th>\n",
       "      <th>speaker_id</th>\n",
       "      <th>list</th>\n",
       "      <th>sentiment_code</th>\n",
       "      <th>full_text</th>\n",
       "      <th>emotion</th>\n",
       "      <th>digit</th>\n",
       "    </tr>\n",
       "  </thead>\n",
       "  <tbody>\n",
       "    <tr>\n",
       "      <th>0</th>\n",
       "      <td>2635.json</td>\n",
       "      <td>False</td>\n",
       "      <td>Says the Annies List political group supports ...</td>\n",
       "      <td>abortion</td>\n",
       "      <td>dwayne-bohac</td>\n",
       "      <td>State representative</td>\n",
       "      <td>Texas</td>\n",
       "      <td>republican</td>\n",
       "      <td>0.0</td>\n",
       "      <td>1.0</td>\n",
       "      <td>...</td>\n",
       "      <td>0.008926</td>\n",
       "      <td>0.026096</td>\n",
       "      <td>0.263479</td>\n",
       "      <td>0.531887</td>\n",
       "      <td>_0_</td>\n",
       "      <td>[0, 1]</td>\n",
       "      <td>_NEG_</td>\n",
       "      <td>abortion says the annies list political group ...</td>\n",
       "      <td>[0.121137,0.263479,0.008926,0.026096,0.531887,...</td>\n",
       "      <td>0</td>\n",
       "    </tr>\n",
       "    <tr>\n",
       "      <th>1</th>\n",
       "      <td>10540.json</td>\n",
       "      <td>True</td>\n",
       "      <td>When did the decline of coal start? It started...</td>\n",
       "      <td>energy,history,job-accomplishments</td>\n",
       "      <td>scott-surovell</td>\n",
       "      <td>State delegate</td>\n",
       "      <td>Virginia</td>\n",
       "      <td>democrat</td>\n",
       "      <td>0.0</td>\n",
       "      <td>0.0</td>\n",
       "      <td>...</td>\n",
       "      <td>0.124566</td>\n",
       "      <td>0.191357</td>\n",
       "      <td>0.016999</td>\n",
       "      <td>0.102045</td>\n",
       "      <td>_1_</td>\n",
       "      <td>[0, 1]</td>\n",
       "      <td>_NEG_</td>\n",
       "      <td>energy history job accomplishments when did th...</td>\n",
       "      <td>[0.095352,0.016999,0.124566,0.191357,0.102045,...</td>\n",
       "      <td>1</td>\n",
       "    </tr>\n",
       "    <tr>\n",
       "      <th>2</th>\n",
       "      <td>324.json</td>\n",
       "      <td>True</td>\n",
       "      <td>Hillary Clinton agrees with John McCain \"by vo...</td>\n",
       "      <td>foreign-policy</td>\n",
       "      <td>barack-obama</td>\n",
       "      <td>President</td>\n",
       "      <td>Illinois</td>\n",
       "      <td>democrat</td>\n",
       "      <td>70.0</td>\n",
       "      <td>71.0</td>\n",
       "      <td>...</td>\n",
       "      <td>0.024162</td>\n",
       "      <td>0.500384</td>\n",
       "      <td>0.454228</td>\n",
       "      <td>0.052453</td>\n",
       "      <td>_2_</td>\n",
       "      <td>[1, 0]</td>\n",
       "      <td>_NEG_</td>\n",
       "      <td>foreign policy hillary clinton agrees with joh...</td>\n",
       "      <td>[0.039559,0.454228,0.024162,0.500384,0.052453,...</td>\n",
       "      <td>1</td>\n",
       "    </tr>\n",
       "    <tr>\n",
       "      <th>3</th>\n",
       "      <td>1123.json</td>\n",
       "      <td>False</td>\n",
       "      <td>Health care reform legislation is likely to ma...</td>\n",
       "      <td>health-care</td>\n",
       "      <td>blog-posting</td>\n",
       "      <td>NaN</td>\n",
       "      <td>NaN</td>\n",
       "      <td>none</td>\n",
       "      <td>7.0</td>\n",
       "      <td>19.0</td>\n",
       "      <td>...</td>\n",
       "      <td>0.194674</td>\n",
       "      <td>0.375055</td>\n",
       "      <td>0.022509</td>\n",
       "      <td>0.383403</td>\n",
       "      <td>_3_</td>\n",
       "      <td>[0, 1]</td>\n",
       "      <td>_NEG_</td>\n",
       "      <td>NaN</td>\n",
       "      <td>[0.004804,0.022509,0.194674,0.375055,0.383403,...</td>\n",
       "      <td>0</td>\n",
       "    </tr>\n",
       "    <tr>\n",
       "      <th>4</th>\n",
       "      <td>9028.json</td>\n",
       "      <td>True</td>\n",
       "      <td>The economic turnaround started at the end of ...</td>\n",
       "      <td>economy,jobs</td>\n",
       "      <td>charlie-crist</td>\n",
       "      <td>NaN</td>\n",
       "      <td>Florida</td>\n",
       "      <td>democrat</td>\n",
       "      <td>15.0</td>\n",
       "      <td>9.0</td>\n",
       "      <td>...</td>\n",
       "      <td>0.215996</td>\n",
       "      <td>0.222402</td>\n",
       "      <td>0.045672</td>\n",
       "      <td>0.274343</td>\n",
       "      <td>_4_</td>\n",
       "      <td>[0, 1]</td>\n",
       "      <td>NaN</td>\n",
       "      <td>NaN</td>\n",
       "      <td>[0.044237,0.045672,0.215996,0.222402,0.274343,...</td>\n",
       "      <td>1</td>\n",
       "    </tr>\n",
       "  </tbody>\n",
       "</table>\n",
       "<p>5 rows × 28 columns</p>\n",
       "</div>"
      ],
      "text/plain": [
       "           ID  label                                          statement  \\\n",
       "0   2635.json  False  Says the Annies List political group supports ...   \n",
       "1  10540.json   True  When did the decline of coal start? It started...   \n",
       "2    324.json   True  Hillary Clinton agrees with John McCain \"by vo...   \n",
       "3   1123.json  False  Health care reform legislation is likely to ma...   \n",
       "4   9028.json   True  The economic turnaround started at the end of ...   \n",
       "\n",
       "                              subject         speaker           speaker_job  \\\n",
       "0                            abortion    dwayne-bohac  State representative   \n",
       "1  energy,history,job-accomplishments  scott-surovell        State delegate   \n",
       "2                      foreign-policy    barack-obama             President   \n",
       "3                         health-care    blog-posting                   NaN   \n",
       "4                        economy,jobs   charlie-crist                   NaN   \n",
       "\n",
       "  state_info party_affiliation  barely_true_counts  false_counts  ...  \\\n",
       "0      Texas        republican                 0.0           1.0  ...   \n",
       "1   Virginia          democrat                 0.0           0.0  ...   \n",
       "2   Illinois          democrat                70.0          71.0  ...   \n",
       "3        NaN              none                 7.0          19.0  ...   \n",
       "4    Florida          democrat                15.0           9.0  ...   \n",
       "\n",
       "       fear       joy   disgust       sad speaker_id    list  sentiment_code  \\\n",
       "0  0.008926  0.026096  0.263479  0.531887        _0_  [0, 1]           _NEG_   \n",
       "1  0.124566  0.191357  0.016999  0.102045        _1_  [0, 1]           _NEG_   \n",
       "2  0.024162  0.500384  0.454228  0.052453        _2_  [1, 0]           _NEG_   \n",
       "3  0.194674  0.375055  0.022509  0.383403        _3_  [0, 1]           _NEG_   \n",
       "4  0.215996  0.222402  0.045672  0.274343        _4_  [0, 1]             NaN   \n",
       "\n",
       "                                           full_text  \\\n",
       "0  abortion says the annies list political group ...   \n",
       "1  energy history job accomplishments when did th...   \n",
       "2  foreign policy hillary clinton agrees with joh...   \n",
       "3                                                NaN   \n",
       "4                                                NaN   \n",
       "\n",
       "                                             emotion  digit  \n",
       "0  [0.121137,0.263479,0.008926,0.026096,0.531887,...      0  \n",
       "1  [0.095352,0.016999,0.124566,0.191357,0.102045,...      1  \n",
       "2  [0.039559,0.454228,0.024162,0.500384,0.052453,...      1  \n",
       "3  [0.004804,0.022509,0.194674,0.375055,0.383403,...      0  \n",
       "4  [0.044237,0.045672,0.215996,0.222402,0.274343,...      1  \n",
       "\n",
       "[5 rows x 28 columns]"
      ]
     },
     "execution_count": 2,
     "metadata": {},
     "output_type": "execute_result"
    }
   ],
   "source": [
    "#Loading the dataset\n",
    "df = pd.read_csv(r\"fake_news_merged_final.csv\")\n",
    "df.head()"
   ]
  },
  {
   "cell_type": "code",
   "execution_count": 4,
   "id": "d04750e8",
   "metadata": {},
   "outputs": [
    {
     "data": {
      "text/plain": [
       "ID                         0\n",
       "label                      0\n",
       "statement                  0\n",
       "subject                    0\n",
       "speaker                    0\n",
       "speaker_job             3563\n",
       "state_info              2746\n",
       "party_affiliation          0\n",
       "barely_true_counts         0\n",
       "false_counts               0\n",
       "half_true_counts           0\n",
       "mostly_true_counts         0\n",
       "pants_on_fire_counts       0\n",
       "context                  129\n",
       "sentiment               1717\n",
       "sentiment_score            0\n",
       "sentiment_magnitude        0\n",
       "anger                      0\n",
       "fear                       0\n",
       "joy                        0\n",
       "disgust                    0\n",
       "sad                        0\n",
       "speaker_id                 0\n",
       "list                       0\n",
       "sentiment_code          1717\n",
       "full_text                  0\n",
       "emotion                    0\n",
       "digit                      0\n",
       "dtype: int64"
      ]
     },
     "execution_count": 4,
     "metadata": {},
     "output_type": "execute_result"
    }
   ],
   "source": [
    "df['full_text'] = df['full_text'].fillna('')\n",
    "df['full_text'][1]\n",
    "\n",
    "df.isnull().sum()"
   ]
  },
  {
   "cell_type": "code",
   "execution_count": 5,
   "id": "5c1ad9f4",
   "metadata": {},
   "outputs": [
    {
     "name": "stdout",
     "output_type": "stream",
     "text": [
      "[False  True]\n"
     ]
    }
   ],
   "source": [
    "unique_labels = df['label'].unique()\n",
    "print(unique_labels)"
   ]
  },
  {
   "cell_type": "code",
   "execution_count": 6,
   "id": "33736241",
   "metadata": {},
   "outputs": [
    {
     "data": {
      "text/plain": [
       "ID                         0\n",
       "label                      0\n",
       "statement                  0\n",
       "subject                    0\n",
       "speaker                    0\n",
       "speaker_job             3563\n",
       "state_info              2746\n",
       "party_affiliation          0\n",
       "barely_true_counts         0\n",
       "false_counts               0\n",
       "half_true_counts           0\n",
       "mostly_true_counts         0\n",
       "pants_on_fire_counts       0\n",
       "context                  129\n",
       "sentiment               1717\n",
       "sentiment_score            0\n",
       "sentiment_magnitude        0\n",
       "anger                      0\n",
       "fear                       0\n",
       "joy                        0\n",
       "disgust                    0\n",
       "sad                        0\n",
       "speaker_id                 0\n",
       "list                       0\n",
       "sentiment_code          1717\n",
       "full_text                  0\n",
       "emotion                    0\n",
       "digit                      0\n",
       "dtype: int64"
      ]
     },
     "execution_count": 6,
     "metadata": {},
     "output_type": "execute_result"
    }
   ],
   "source": [
    "df.isnull().sum()"
   ]
  },
  {
   "cell_type": "code",
   "execution_count": 7,
   "id": "491eda59",
   "metadata": {},
   "outputs": [],
   "source": [
    "#Performing text vectorization\n",
    "Vectorizer = TfidfVectorizer()\n",
    "X = Vectorizer.fit_transform(df['full_text'])\n",
    "Y = df['label']"
   ]
  },
  {
   "cell_type": "code",
   "execution_count": 8,
   "id": "f9210226",
   "metadata": {},
   "outputs": [],
   "source": [
    "#Splitting the dataset into train and test sets\n",
    "X_Train, X_Test, Y_Train, Y_Test = train_test_split(X, Y, test_size=0.3, random_state=42)"
   ]
  },
  {
   "cell_type": "code",
   "execution_count": 9,
   "id": "06b0bdec",
   "metadata": {},
   "outputs": [
    {
     "data": {
      "text/html": [
       "<style>#sk-container-id-1 {color: black;background-color: white;}#sk-container-id-1 pre{padding: 0;}#sk-container-id-1 div.sk-toggleable {background-color: white;}#sk-container-id-1 label.sk-toggleable__label {cursor: pointer;display: block;width: 100%;margin-bottom: 0;padding: 0.3em;box-sizing: border-box;text-align: center;}#sk-container-id-1 label.sk-toggleable__label-arrow:before {content: \"▸\";float: left;margin-right: 0.25em;color: #696969;}#sk-container-id-1 label.sk-toggleable__label-arrow:hover:before {color: black;}#sk-container-id-1 div.sk-estimator:hover label.sk-toggleable__label-arrow:before {color: black;}#sk-container-id-1 div.sk-toggleable__content {max-height: 0;max-width: 0;overflow: hidden;text-align: left;background-color: #f0f8ff;}#sk-container-id-1 div.sk-toggleable__content pre {margin: 0.2em;color: black;border-radius: 0.25em;background-color: #f0f8ff;}#sk-container-id-1 input.sk-toggleable__control:checked~div.sk-toggleable__content {max-height: 200px;max-width: 100%;overflow: auto;}#sk-container-id-1 input.sk-toggleable__control:checked~label.sk-toggleable__label-arrow:before {content: \"▾\";}#sk-container-id-1 div.sk-estimator input.sk-toggleable__control:checked~label.sk-toggleable__label {background-color: #d4ebff;}#sk-container-id-1 div.sk-label input.sk-toggleable__control:checked~label.sk-toggleable__label {background-color: #d4ebff;}#sk-container-id-1 input.sk-hidden--visually {border: 0;clip: rect(1px 1px 1px 1px);clip: rect(1px, 1px, 1px, 1px);height: 1px;margin: -1px;overflow: hidden;padding: 0;position: absolute;width: 1px;}#sk-container-id-1 div.sk-estimator {font-family: monospace;background-color: #f0f8ff;border: 1px dotted black;border-radius: 0.25em;box-sizing: border-box;margin-bottom: 0.5em;}#sk-container-id-1 div.sk-estimator:hover {background-color: #d4ebff;}#sk-container-id-1 div.sk-parallel-item::after {content: \"\";width: 100%;border-bottom: 1px solid gray;flex-grow: 1;}#sk-container-id-1 div.sk-label:hover label.sk-toggleable__label {background-color: #d4ebff;}#sk-container-id-1 div.sk-serial::before {content: \"\";position: absolute;border-left: 1px solid gray;box-sizing: border-box;top: 0;bottom: 0;left: 50%;z-index: 0;}#sk-container-id-1 div.sk-serial {display: flex;flex-direction: column;align-items: center;background-color: white;padding-right: 0.2em;padding-left: 0.2em;position: relative;}#sk-container-id-1 div.sk-item {position: relative;z-index: 1;}#sk-container-id-1 div.sk-parallel {display: flex;align-items: stretch;justify-content: center;background-color: white;position: relative;}#sk-container-id-1 div.sk-item::before, #sk-container-id-1 div.sk-parallel-item::before {content: \"\";position: absolute;border-left: 1px solid gray;box-sizing: border-box;top: 0;bottom: 0;left: 50%;z-index: -1;}#sk-container-id-1 div.sk-parallel-item {display: flex;flex-direction: column;z-index: 1;position: relative;background-color: white;}#sk-container-id-1 div.sk-parallel-item:first-child::after {align-self: flex-end;width: 50%;}#sk-container-id-1 div.sk-parallel-item:last-child::after {align-self: flex-start;width: 50%;}#sk-container-id-1 div.sk-parallel-item:only-child::after {width: 0;}#sk-container-id-1 div.sk-dashed-wrapped {border: 1px dashed gray;margin: 0 0.4em 0.5em 0.4em;box-sizing: border-box;padding-bottom: 0.4em;background-color: white;}#sk-container-id-1 div.sk-label label {font-family: monospace;font-weight: bold;display: inline-block;line-height: 1.2em;}#sk-container-id-1 div.sk-label-container {text-align: center;}#sk-container-id-1 div.sk-container {/* jupyter's `normalize.less` sets `[hidden] { display: none; }` but bootstrap.min.css set `[hidden] { display: none !important; }` so we also need the `!important` here to be able to override the default hidden behavior on the sphinx rendered scikit-learn.org. See: https://github.com/scikit-learn/scikit-learn/issues/21755 */display: inline-block !important;position: relative;}#sk-container-id-1 div.sk-text-repr-fallback {display: none;}</style><div id=\"sk-container-id-1\" class=\"sk-top-container\"><div class=\"sk-text-repr-fallback\"><pre>SVC(random_state=42)</pre><b>In a Jupyter environment, please rerun this cell to show the HTML representation or trust the notebook. <br />On GitHub, the HTML representation is unable to render, please try loading this page with nbviewer.org.</b></div><div class=\"sk-container\" hidden><div class=\"sk-item\"><div class=\"sk-estimator sk-toggleable\"><input class=\"sk-toggleable__control sk-hidden--visually\" id=\"sk-estimator-id-1\" type=\"checkbox\" checked><label for=\"sk-estimator-id-1\" class=\"sk-toggleable__label sk-toggleable__label-arrow\">SVC</label><div class=\"sk-toggleable__content\"><pre>SVC(random_state=42)</pre></div></div></div></div></div>"
      ],
      "text/plain": [
       "SVC(random_state=42)"
      ]
     },
     "execution_count": 9,
     "metadata": {},
     "output_type": "execute_result"
    }
   ],
   "source": [
    "#Creating and training the SVM model\n",
    "SVMModel = SVC(random_state=42)\n",
    "SVMModel.fit(X_Train, Y_Train)"
   ]
  },
  {
   "cell_type": "code",
   "execution_count": 10,
   "id": "176ee5af",
   "metadata": {},
   "outputs": [],
   "source": [
    "#Making predictions on the testing set\n",
    "Y_Pred = SVMModel.predict(X_Test)"
   ]
  },
  {
   "cell_type": "code",
   "execution_count": 13,
   "id": "2a250caa",
   "metadata": {},
   "outputs": [
    {
     "name": "stdout",
     "output_type": "stream",
     "text": [
      "Classification Report:\n",
      "              precision    recall  f1-score   support\n",
      "\n",
      "        fake       0.60      0.07      0.13      1446\n",
      "        real       0.63      0.97      0.77      2390\n",
      "\n",
      "    accuracy                           0.63      3836\n",
      "   macro avg       0.62      0.52      0.45      3836\n",
      "weighted avg       0.62      0.63      0.53      3836\n",
      "\n",
      "Accuracy: 63.19%\n",
      "Precision (Fake): 60.12%\n",
      "Precision (Real): 63.33%\n",
      "Recall (Fake): 6.98%\n",
      "Recall (Real): 97.20%\n",
      "F1-Score (Fake): 12.52%\n",
      "F1-Score (Real): 76.69%\n"
     ]
    }
   ],
   "source": [
    "from sklearn.metrics import classification_report, accuracy_score, precision_recall_fscore_support\n",
    "\n",
    "#Printing classification report\n",
    "print(\"Classification Report:\")\n",
    "report = classification_report(Y_Test, Y_Pred, target_names=['fake', 'real'])\n",
    "print(report)\n",
    "\n",
    "#Calculating and print accuracy\n",
    "accuracy = accuracy_score(Y_Test, Y_Pred)\n",
    "print(\"Accuracy: {:.2f}%\".format(accuracy * 100))\n",
    "\n",
    "#Calculating precision, recall, and F1-score\n",
    "precision, recall, f1_score, _ = precision_recall_fscore_support(Y_Test, Y_Pred, average=None)\n",
    "\n",
    "#Printing precision, recall, and F1-score in percentage\n",
    "print(\"Precision (Fake): {:.2f}%\".format(precision[0] * 100))\n",
    "print(\"Precision (Real): {:.2f}%\".format(precision[1] * 100))\n",
    "print(\"Recall (Fake): {:.2f}%\".format(recall[0] * 100))\n",
    "print(\"Recall (Real): {:.2f}%\".format(recall[1] * 100))\n",
    "print(\"F1-Score (Fake): {:.2f}%\".format(f1_score[0] * 100))\n",
    "print(\"F1-Score (Real): {:.2f}%\".format(f1_score[1] * 100))"
   ]
  },
  {
   "cell_type": "code",
   "execution_count": 15,
   "id": "b872681e",
   "metadata": {},
   "outputs": [
    {
     "name": "stdout",
     "output_type": "stream",
     "text": [
      "\u001b[1mTrue Positive: The number of instances, when the model predicted FAKE news as FAKE only \u001b[0m \n",
      "True Positive: 101\n",
      "\n",
      "\u001b[1mFalse Positive: The number of instances, when the model predicted as FAKE news, but it is a REAL news\u001b[0m\n",
      "False Positive: 1345\n",
      "\n",
      "\u001b[1mFalse Negative: The number of instances, when the model predicted as REAL news, but it is a FAKE news\u001b[0m\n",
      "False Negative: 67\n",
      "\n",
      "\u001b[1mTrue Negative: The number of instances, when the model predicted REAL news as REAL only\u001b[0m\n",
      "True Negative: 2323\n"
     ]
    }
   ],
   "source": [
    "from sklearn.metrics import confusion_matrix\n",
    "\n",
    "#Assuming Y_Test and Y_Pred are the true labels and predicted labels, respectively\n",
    "\n",
    "#Calculating confusion matrix\n",
    "conf_matrix = confusion_matrix(Y_Test, Y_Pred)\n",
    "\n",
    "#Extracting TP, FP, TN, FN from confusion matrix\n",
    "TP = conf_matrix[0, 0]\n",
    "FP = conf_matrix[0, 1]\n",
    "TN = conf_matrix[1, 1]\n",
    "FN = conf_matrix[1, 0]\n",
    "\n",
    "#Printing explanations and corresponding numbers\n",
    "print(\"\\033[1mTrue Positive: The number of instances, when the model predicted FAKE news as FAKE only \\033[0m \")\n",
    "print(\"True Positive:\", TP)\n",
    "print()\n",
    "print(\"\\033[1mFalse Positive: The number of instances, when the model predicted as FAKE news, but it is a REAL news\\033[0m\")\n",
    "print(\"False Positive:\", FP)\n",
    "print()\n",
    "print(\"\\033[1mFalse Negative: The number of instances, when the model predicted as REAL news, but it is a FAKE news\\033[0m\")\n",
    "print(\"False Negative:\", FN)\n",
    "print()\n",
    "print(\"\\033[1mTrue Negative: The number of instances, when the model predicted REAL news as REAL only\\033[0m\")\n",
    "print(\"True Negative:\", TN)\n"
   ]
  },
  {
   "cell_type": "code",
   "execution_count": 16,
   "id": "c7dfa2fa",
   "metadata": {},
   "outputs": [
    {
     "data": {
      "image/png": "[encoded data removed]",
      "text/plain": [
       "<Figure size 800x600 with 1 Axes>"
      ]
     },
     "metadata": {},
     "output_type": "display_data"
    }
   ],
   "source": [
    "#Creating a heatmap of the confusion matrix\n",
    "plt.figure(figsize=(8, 6))\n",
    "sns.heatmap(conf_matrix, annot=True, cmap='Blues', fmt='d', cbar=False)\n",
    "plt.xlabel('Predicted Labels')\n",
    "plt.ylabel('True Labels')\n",
    "plt.title('Confusion Matrix')\n",
    "plt.show()"
   ]
  },
  {
   "cell_type": "code",
   "execution_count": 17,
   "id": "e3672276",
   "metadata": {},
   "outputs": [
    {
     "data": {
      "image/png": "[encoded data removed]",
      "text/plain": [
       "<Figure size 640x480 with 1 Axes>"
      ]
     },
     "metadata": {},
     "output_type": "display_data"
    }
   ],
   "source": [
    "AccuracyScores = [accuracy_score(Y_Test, Y_Pred), 0.70]  \n",
    "Models = ['Random Forest Model', 'Baseline Model']\n",
    "\n",
    "plt.bar(Models, AccuracyScores)\n",
    "plt.title('Model Accuracy Comparison')\n",
    "plt.xlabel('Models')\n",
    "plt.ylabel('Accuracy Score')\n",
    "plt.ylim([0, 1])  #Setting the y-axis limits between 0 and 1\n",
    "plt.show()"
   ]
  },
  {
   "cell_type": "code",
   "execution_count": 18,
   "id": "27cdc47e",
   "metadata": {},
   "outputs": [
    {
     "name": "stdout",
     "output_type": "stream",
     "text": [
      "The first statement prediction is: [False]\n",
      "The second statement prediction is: [ True]\n"
     ]
    }
   ],
   "source": [
    "# Assuming you have a trained Random Forest model named 'rf_model'\n",
    "# Assuming you have a sentence to test named 'sentence'\n",
    "# Assuming you have the vectorizer used for training named 'Vectorizer'\n",
    "\n",
    "# Preprocess the sentences (vectorize them) using the same vectorizer used for training\n",
    "X_test = Vectorizer.transform(['health care states says the paperback edition of mitt romneys book deleted line that massachusetts individual mandate should be the model for the country 42 governor republican '])\n",
    "X_test2 = Vectorizer.transform(['energy history job accomplishments when did the decline of coal start it started when natural gas took off that started to begin in president george w bushs administration 1 state delegate democrat '])\n",
    "\n",
    "# Make predictions\n",
    "prediction = SVMModel.predict(X_test)\n",
    "prediction2 = SVMModel.predict(X_test2)\n",
    "\n",
    "print(\"The first statement prediction is:\", prediction)\n",
    "print(\"The second statement prediction is:\", prediction2)"
   ]
  }
 ],
 "metadata": {
  "kernelspec": {
   "display_name": "Python 3 (ipykernel)",
   "language": "python",
   "name": "python3"
  },
  "language_info": {
   "codemirror_mode": {
    "name": "ipython",
    "version": 3
   },
   "file_extension": ".py",
   "mimetype": "text/x-python",
   "name": "python",
   "nbconvert_exporter": "python",
   "pygments_lexer": "ipython3",
   "version": "3.10.7"
  }
 },
 "nbformat": 4,
 "nbformat_minor": 5
}
