{
 "cells": [
  {
   "cell_type": "code",
   "execution_count": 9,
   "id": "6dbf3c8a",
   "metadata": {},
   "outputs": [],
   "source": [
    "#Importing the Libraries\n",
    "\n",
    "import pandas as pd\n",
    "import numpy as np\n",
    "import seaborn as sns\n",
    "import matplotlib.pyplot as plt\n",
    "from sklearn.feature_extraction.text import CountVectorizer\n",
    "from sklearn.model_selection import train_test_split\n",
    "from sklearn.linear_model import LogisticRegression\n",
    "from sklearn.metrics import accuracy_score, classification_report, confusion_matrix"
   ]
  },
  {
   "cell_type": "code",
   "execution_count": 2,
   "id": "266070e8",
   "metadata": {},
   "outputs": [
    {
     "data": {
      "text/html": [
       "<div>\n",
       "<style scoped>\n",
       "    .dataframe tbody tr th:only-of-type {\n",
       "        vertical-align: middle;\n",
       "    }\n",
       "\n",
       "    .dataframe tbody tr th {\n",
       "        vertical-align: top;\n",
       "    }\n",
       "\n",
       "    .dataframe thead th {\n",
       "        text-align: right;\n",
       "    }\n",
       "</style>\n",
       "<table border=\"1\" class=\"dataframe\">\n",
       "  <thead>\n",
       "    <tr style=\"text-align: right;\">\n",
       "      <th></th>\n",
       "      <th>ID</th>\n",
       "      <th>label</th>\n",
       "      <th>statement</th>\n",
       "      <th>subject</th>\n",
       "      <th>speaker</th>\n",
       "      <th>speaker_job</th>\n",
       "      <th>state_info</th>\n",
       "      <th>party_affiliation</th>\n",
       "      <th>barely_true_counts</th>\n",
       "      <th>false_counts</th>\n",
       "      <th>...</th>\n",
       "      <th>fear</th>\n",
       "      <th>joy</th>\n",
       "      <th>disgust</th>\n",
       "      <th>sad</th>\n",
       "      <th>speaker_id</th>\n",
       "      <th>list</th>\n",
       "      <th>sentiment_code</th>\n",
       "      <th>full_text</th>\n",
       "      <th>emotion</th>\n",
       "      <th>digit</th>\n",
       "    </tr>\n",
       "  </thead>\n",
       "  <tbody>\n",
       "    <tr>\n",
       "      <th>0</th>\n",
       "      <td>2635.json</td>\n",
       "      <td>False</td>\n",
       "      <td>Says the Annies List political group supports ...</td>\n",
       "      <td>abortion</td>\n",
       "      <td>dwayne-bohac</td>\n",
       "      <td>State representative</td>\n",
       "      <td>Texas</td>\n",
       "      <td>republican</td>\n",
       "      <td>0.0</td>\n",
       "      <td>1.0</td>\n",
       "      <td>...</td>\n",
       "      <td>0.008926</td>\n",
       "      <td>0.026096</td>\n",
       "      <td>0.263479</td>\n",
       "      <td>0.531887</td>\n",
       "      <td>_0_</td>\n",
       "      <td>[0, 1]</td>\n",
       "      <td>_NEG_</td>\n",
       "      <td>abortion says the annies list political group ...</td>\n",
       "      <td>[0.121137,0.263479,0.008926,0.026096,0.531887,...</td>\n",
       "      <td>0</td>\n",
       "    </tr>\n",
       "    <tr>\n",
       "      <th>1</th>\n",
       "      <td>10540.json</td>\n",
       "      <td>True</td>\n",
       "      <td>When did the decline of coal start? It started...</td>\n",
       "      <td>energy,history,job-accomplishments</td>\n",
       "      <td>scott-surovell</td>\n",
       "      <td>State delegate</td>\n",
       "      <td>Virginia</td>\n",
       "      <td>democrat</td>\n",
       "      <td>0.0</td>\n",
       "      <td>0.0</td>\n",
       "      <td>...</td>\n",
       "      <td>0.124566</td>\n",
       "      <td>0.191357</td>\n",
       "      <td>0.016999</td>\n",
       "      <td>0.102045</td>\n",
       "      <td>_1_</td>\n",
       "      <td>[0, 1]</td>\n",
       "      <td>_NEG_</td>\n",
       "      <td>energy history job accomplishments when did th...</td>\n",
       "      <td>[0.095352,0.016999,0.124566,0.191357,0.102045,...</td>\n",
       "      <td>1</td>\n",
       "    </tr>\n",
       "    <tr>\n",
       "      <th>2</th>\n",
       "      <td>324.json</td>\n",
       "      <td>True</td>\n",
       "      <td>Hillary Clinton agrees with John McCain \"by vo...</td>\n",
       "      <td>foreign-policy</td>\n",
       "      <td>barack-obama</td>\n",
       "      <td>President</td>\n",
       "      <td>Illinois</td>\n",
       "      <td>democrat</td>\n",
       "      <td>70.0</td>\n",
       "      <td>71.0</td>\n",
       "      <td>...</td>\n",
       "      <td>0.024162</td>\n",
       "      <td>0.500384</td>\n",
       "      <td>0.454228</td>\n",
       "      <td>0.052453</td>\n",
       "      <td>_2_</td>\n",
       "      <td>[1, 0]</td>\n",
       "      <td>_NEG_</td>\n",
       "      <td>foreign policy hillary clinton agrees with joh...</td>\n",
       "      <td>[0.039559,0.454228,0.024162,0.500384,0.052453,...</td>\n",
       "      <td>1</td>\n",
       "    </tr>\n",
       "    <tr>\n",
       "      <th>3</th>\n",
       "      <td>1123.json</td>\n",
       "      <td>False</td>\n",
       "      <td>Health care reform legislation is likely to ma...</td>\n",
       "      <td>health-care</td>\n",
       "      <td>blog-posting</td>\n",
       "      <td>NaN</td>\n",
       "      <td>NaN</td>\n",
       "      <td>none</td>\n",
       "      <td>7.0</td>\n",
       "      <td>19.0</td>\n",
       "      <td>...</td>\n",
       "      <td>0.194674</td>\n",
       "      <td>0.375055</td>\n",
       "      <td>0.022509</td>\n",
       "      <td>0.383403</td>\n",
       "      <td>_3_</td>\n",
       "      <td>[0, 1]</td>\n",
       "      <td>_NEG_</td>\n",
       "      <td>NaN</td>\n",
       "      <td>[0.004804,0.022509,0.194674,0.375055,0.383403,...</td>\n",
       "      <td>0</td>\n",
       "    </tr>\n",
       "    <tr>\n",
       "      <th>4</th>\n",
       "      <td>9028.json</td>\n",
       "      <td>True</td>\n",
       "      <td>The economic turnaround started at the end of ...</td>\n",
       "      <td>economy,jobs</td>\n",
       "      <td>charlie-crist</td>\n",
       "      <td>NaN</td>\n",
       "      <td>Florida</td>\n",
       "      <td>democrat</td>\n",
       "      <td>15.0</td>\n",
       "      <td>9.0</td>\n",
       "      <td>...</td>\n",
       "      <td>0.215996</td>\n",
       "      <td>0.222402</td>\n",
       "      <td>0.045672</td>\n",
       "      <td>0.274343</td>\n",
       "      <td>_4_</td>\n",
       "      <td>[0, 1]</td>\n",
       "      <td>NaN</td>\n",
       "      <td>NaN</td>\n",
       "      <td>[0.044237,0.045672,0.215996,0.222402,0.274343,...</td>\n",
       "      <td>1</td>\n",
       "    </tr>\n",
       "  </tbody>\n",
       "</table>\n",
       "<p>5 rows × 28 columns</p>\n",
       "</div>"
      ],
      "text/plain": [
       "           ID  label                                          statement  \\\n",
       "0   2635.json  False  Says the Annies List political group supports ...   \n",
       "1  10540.json   True  When did the decline of coal start? It started...   \n",
       "2    324.json   True  Hillary Clinton agrees with John McCain \"by vo...   \n",
       "3   1123.json  False  Health care reform legislation is likely to ma...   \n",
       "4   9028.json   True  The economic turnaround started at the end of ...   \n",
       "\n",
       "                              subject         speaker           speaker_job  \\\n",
       "0                            abortion    dwayne-bohac  State representative   \n",
       "1  energy,history,job-accomplishments  scott-surovell        State delegate   \n",
       "2                      foreign-policy    barack-obama             President   \n",
       "3                         health-care    blog-posting                   NaN   \n",
       "4                        economy,jobs   charlie-crist                   NaN   \n",
       "\n",
       "  state_info party_affiliation  barely_true_counts  false_counts  ...  \\\n",
       "0      Texas        republican                 0.0           1.0  ...   \n",
       "1   Virginia          democrat                 0.0           0.0  ...   \n",
       "2   Illinois          democrat                70.0          71.0  ...   \n",
       "3        NaN              none                 7.0          19.0  ...   \n",
       "4    Florida          democrat                15.0           9.0  ...   \n",
       "\n",
       "       fear       joy   disgust       sad speaker_id    list  sentiment_code  \\\n",
       "0  0.008926  0.026096  0.263479  0.531887        _0_  [0, 1]           _NEG_   \n",
       "1  0.124566  0.191357  0.016999  0.102045        _1_  [0, 1]           _NEG_   \n",
       "2  0.024162  0.500384  0.454228  0.052453        _2_  [1, 0]           _NEG_   \n",
       "3  0.194674  0.375055  0.022509  0.383403        _3_  [0, 1]           _NEG_   \n",
       "4  0.215996  0.222402  0.045672  0.274343        _4_  [0, 1]             NaN   \n",
       "\n",
       "                                           full_text  \\\n",
       "0  abortion says the annies list political group ...   \n",
       "1  energy history job accomplishments when did th...   \n",
       "2  foreign policy hillary clinton agrees with joh...   \n",
       "3                                                NaN   \n",
       "4                                                NaN   \n",
       "\n",
       "                                             emotion  digit  \n",
       "0  [0.121137,0.263479,0.008926,0.026096,0.531887,...      0  \n",
       "1  [0.095352,0.016999,0.124566,0.191357,0.102045,...      1  \n",
       "2  [0.039559,0.454228,0.024162,0.500384,0.052453,...      1  \n",
       "3  [0.004804,0.022509,0.194674,0.375055,0.383403,...      0  \n",
       "4  [0.044237,0.045672,0.215996,0.222402,0.274343,...      1  \n",
       "\n",
       "[5 rows x 28 columns]"
      ]
     },
     "execution_count": 2,
     "metadata": {},
     "output_type": "execute_result"
    }
   ],
   "source": [
    "#Loading the dataset\n",
    "df = pd.read_csv(r\"fake_news_merged_final.csv\")\n",
    "df.head()"
   ]
  },
  {
   "cell_type": "code",
   "execution_count": 4,
   "id": "4a1e4c91",
   "metadata": {},
   "outputs": [
    {
     "data": {
      "text/plain": [
       "ID                         0\n",
       "label                      0\n",
       "statement                  0\n",
       "subject                    0\n",
       "speaker                    0\n",
       "speaker_job             3563\n",
       "state_info              2746\n",
       "party_affiliation          0\n",
       "barely_true_counts         0\n",
       "false_counts               0\n",
       "half_true_counts           0\n",
       "mostly_true_counts         0\n",
       "pants_on_fire_counts       0\n",
       "context                  129\n",
       "sentiment               1717\n",
       "sentiment_score            0\n",
       "sentiment_magnitude        0\n",
       "anger                      0\n",
       "fear                       0\n",
       "joy                        0\n",
       "disgust                    0\n",
       "sad                        0\n",
       "speaker_id                 0\n",
       "list                       0\n",
       "sentiment_code          1717\n",
       "full_text                  0\n",
       "emotion                    0\n",
       "digit                      0\n",
       "dtype: int64"
      ]
     },
     "execution_count": 4,
     "metadata": {},
     "output_type": "execute_result"
    }
   ],
   "source": [
    "df['full_text'] = df['full_text'].fillna('')\n",
    "df['full_text'][1]\n",
    "\n",
    "df.isnull().sum()"
   ]
  },
  {
   "cell_type": "code",
   "execution_count": 5,
   "id": "f333d349",
   "metadata": {},
   "outputs": [
    {
     "data": {
      "image/png": "[encoded data removed]",
      "text/plain": [
       "<Figure size 600x600 with 1 Axes>"
      ]
     },
     "metadata": {},
     "output_type": "display_data"
    }
   ],
   "source": [
    "import matplotlib.pyplot as plt\n",
    "\n",
    "# Calculate the value counts and percentages\n",
    "value_counts = df['label'].value_counts()\n",
    "percentages = value_counts / len(df) * 100\n",
    "\n",
    "# Create a pie chart\n",
    "plt.figure(figsize=(6, 6))\n",
    "plt.pie(percentages, labels=value_counts.index, autopct='%1.1f%%', startangle=90)\n",
    "plt.title('Percentage Distribution of Label')\n",
    "plt.axis('equal')\n",
    "plt.show()\n"
   ]
  },
  {
   "cell_type": "code",
   "execution_count": 6,
   "id": "15f49350",
   "metadata": {},
   "outputs": [
    {
     "name": "stdout",
     "output_type": "stream",
     "text": [
      "[False  True]\n"
     ]
    }
   ],
   "source": [
    "unique_labels = df['label'].unique()\n",
    "print(unique_labels)"
   ]
  },
  {
   "cell_type": "code",
   "execution_count": 7,
   "id": "2d761fa6",
   "metadata": {},
   "outputs": [
    {
     "data": {
      "text/plain": [
       "ID                         0\n",
       "label                      0\n",
       "statement                  0\n",
       "subject                    0\n",
       "speaker                    0\n",
       "speaker_job             3563\n",
       "state_info              2746\n",
       "party_affiliation          0\n",
       "barely_true_counts         0\n",
       "false_counts               0\n",
       "half_true_counts           0\n",
       "mostly_true_counts         0\n",
       "pants_on_fire_counts       0\n",
       "context                  129\n",
       "sentiment               1717\n",
       "sentiment_score            0\n",
       "sentiment_magnitude        0\n",
       "anger                      0\n",
       "fear                       0\n",
       "joy                        0\n",
       "disgust                    0\n",
       "sad                        0\n",
       "speaker_id                 0\n",
       "list                       0\n",
       "sentiment_code          1717\n",
       "full_text                  0\n",
       "emotion                    0\n",
       "digit                      0\n",
       "dtype: int64"
      ]
     },
     "execution_count": 7,
     "metadata": {},
     "output_type": "execute_result"
    }
   ],
   "source": [
    "df.isnull().sum()"
   ]
  },
  {
   "cell_type": "code",
   "execution_count": 12,
   "id": "572e82f6",
   "metadata": {},
   "outputs": [],
   "source": [
    "# Split the dataset into train and test sets\n",
    "X = df['full_text']\n",
    "y = df['label']\n",
    "X_train, X_test, y_train, y_test = train_test_split(X, y, test_size=0.2, random_state=42)"
   ]
  },
  {
   "cell_type": "code",
   "execution_count": 13,
   "id": "14385fbe",
   "metadata": {},
   "outputs": [],
   "source": [
    "# Convert text data to numerical features using TF-IDF vectorization\n",
    "vectorizer = CountVectorizer()\n",
    "X_train_vect = vectorizer.fit_transform(X_train)\n",
    "X_test_vect = vectorizer.transform(X_test)"
   ]
  },
  {
   "cell_type": "markdown",
   "id": "7094390c",
   "metadata": {},
   "source": [
    "#### Model Training and Evaluation"
   ]
  },
  {
   "cell_type": "code",
   "execution_count": 14,
   "id": "ea75dcda",
   "metadata": {},
   "outputs": [
    {
     "name": "stderr",
     "output_type": "stream",
     "text": [
      "C:\\Users\\vaibh\\AppData\\Local\\Programs\\Python\\Python310\\lib\\site-packages\\sklearn\\linear_model\\_logistic.py:444: ConvergenceWarning: lbfgs failed to converge (status=1):\n",
      "STOP: TOTAL NO. of ITERATIONS REACHED LIMIT.\n",
      "\n",
      "Increase the number of iterations (max_iter) or scale the data as shown in:\n",
      "    https://scikit-learn.org/stable/modules/preprocessing.html\n",
      "Please also refer to the documentation for alternative solver options:\n",
      "    https://scikit-learn.org/stable/modules/linear_model.html#logistic-regression\n",
      "  n_iter_i = _check_optimize_result(\n"
     ]
    },
    {
     "data": {
      "text/html": [
       "<style>#sk-container-id-1 {color: black;background-color: white;}#sk-container-id-1 pre{padding: 0;}#sk-container-id-1 div.sk-toggleable {background-color: white;}#sk-container-id-1 label.sk-toggleable__label {cursor: pointer;display: block;width: 100%;margin-bottom: 0;padding: 0.3em;box-sizing: border-box;text-align: center;}#sk-container-id-1 label.sk-toggleable__label-arrow:before {content: \"▸\";float: left;margin-right: 0.25em;color: #696969;}#sk-container-id-1 label.sk-toggleable__label-arrow:hover:before {color: black;}#sk-container-id-1 div.sk-estimator:hover label.sk-toggleable__label-arrow:before {color: black;}#sk-container-id-1 div.sk-toggleable__content {max-height: 0;max-width: 0;overflow: hidden;text-align: left;background-color: #f0f8ff;}#sk-container-id-1 div.sk-toggleable__content pre {margin: 0.2em;color: black;border-radius: 0.25em;background-color: #f0f8ff;}#sk-container-id-1 input.sk-toggleable__control:checked~div.sk-toggleable__content {max-height: 200px;max-width: 100%;overflow: auto;}#sk-container-id-1 input.sk-toggleable__control:checked~label.sk-toggleable__label-arrow:before {content: \"▾\";}#sk-container-id-1 div.sk-estimator input.sk-toggleable__control:checked~label.sk-toggleable__label {background-color: #d4ebff;}#sk-container-id-1 div.sk-label input.sk-toggleable__control:checked~label.sk-toggleable__label {background-color: #d4ebff;}#sk-container-id-1 input.sk-hidden--visually {border: 0;clip: rect(1px 1px 1px 1px);clip: rect(1px, 1px, 1px, 1px);height: 1px;margin: -1px;overflow: hidden;padding: 0;position: absolute;width: 1px;}#sk-container-id-1 div.sk-estimator {font-family: monospace;background-color: #f0f8ff;border: 1px dotted black;border-radius: 0.25em;box-sizing: border-box;margin-bottom: 0.5em;}#sk-container-id-1 div.sk-estimator:hover {background-color: #d4ebff;}#sk-container-id-1 div.sk-parallel-item::after {content: \"\";width: 100%;border-bottom: 1px solid gray;flex-grow: 1;}#sk-container-id-1 div.sk-label:hover label.sk-toggleable__label {background-color: #d4ebff;}#sk-container-id-1 div.sk-serial::before {content: \"\";position: absolute;border-left: 1px solid gray;box-sizing: border-box;top: 0;bottom: 0;left: 50%;z-index: 0;}#sk-container-id-1 div.sk-serial {display: flex;flex-direction: column;align-items: center;background-color: white;padding-right: 0.2em;padding-left: 0.2em;position: relative;}#sk-container-id-1 div.sk-item {position: relative;z-index: 1;}#sk-container-id-1 div.sk-parallel {display: flex;align-items: stretch;justify-content: center;background-color: white;position: relative;}#sk-container-id-1 div.sk-item::before, #sk-container-id-1 div.sk-parallel-item::before {content: \"\";position: absolute;border-left: 1px solid gray;box-sizing: border-box;top: 0;bottom: 0;left: 50%;z-index: -1;}#sk-container-id-1 div.sk-parallel-item {display: flex;flex-direction: column;z-index: 1;position: relative;background-color: white;}#sk-container-id-1 div.sk-parallel-item:first-child::after {align-self: flex-end;width: 50%;}#sk-container-id-1 div.sk-parallel-item:last-child::after {align-self: flex-start;width: 50%;}#sk-container-id-1 div.sk-parallel-item:only-child::after {width: 0;}#sk-container-id-1 div.sk-dashed-wrapped {border: 1px dashed gray;margin: 0 0.4em 0.5em 0.4em;box-sizing: border-box;padding-bottom: 0.4em;background-color: white;}#sk-container-id-1 div.sk-label label {font-family: monospace;font-weight: bold;display: inline-block;line-height: 1.2em;}#sk-container-id-1 div.sk-label-container {text-align: center;}#sk-container-id-1 div.sk-container {/* jupyter's `normalize.less` sets `[hidden] { display: none; }` but bootstrap.min.css set `[hidden] { display: none !important; }` so we also need the `!important` here to be able to override the default hidden behavior on the sphinx rendered scikit-learn.org. See: https://github.com/scikit-learn/scikit-learn/issues/21755 */display: inline-block !important;position: relative;}#sk-container-id-1 div.sk-text-repr-fallback {display: none;}</style><div id=\"sk-container-id-1\" class=\"sk-top-container\"><div class=\"sk-text-repr-fallback\"><pre>LogisticRegression()</pre><b>In a Jupyter environment, please rerun this cell to show the HTML representation or trust the notebook. <br />On GitHub, the HTML representation is unable to render, please try loading this page with nbviewer.org.</b></div><div class=\"sk-container\" hidden><div class=\"sk-item\"><div class=\"sk-estimator sk-toggleable\"><input class=\"sk-toggleable__control sk-hidden--visually\" id=\"sk-estimator-id-1\" type=\"checkbox\" checked><label for=\"sk-estimator-id-1\" class=\"sk-toggleable__label sk-toggleable__label-arrow\">LogisticRegression</label><div class=\"sk-toggleable__content\"><pre>LogisticRegression()</pre></div></div></div></div></div>"
      ],
      "text/plain": [
       "LogisticRegression()"
      ]
     },
     "execution_count": 14,
     "metadata": {},
     "output_type": "execute_result"
    }
   ],
   "source": [
    "#Train the logistic regression model:\n",
    "model = LogisticRegression()\n",
    "model.fit(X_train_vect, y_train)"
   ]
  },
  {
   "cell_type": "code",
   "execution_count": 15,
   "id": "62a82dc0",
   "metadata": {},
   "outputs": [],
   "source": [
    "# Make predictions on the test set:\n",
    "y_pred = model.predict(X_test_vect)"
   ]
  },
  {
   "cell_type": "code",
   "execution_count": 22,
   "id": "04313c75",
   "metadata": {},
   "outputs": [
    {
     "name": "stdout",
     "output_type": "stream",
     "text": [
      "Classification Report:\n",
      "              precision    recall  f1-score   support\n",
      "\n",
      "        fake       0.43      0.26      0.32       947\n",
      "        real       0.65      0.80      0.71      1611\n",
      "\n",
      "    accuracy                           0.60      2558\n",
      "   macro avg       0.54      0.53      0.52      2558\n",
      "weighted avg       0.56      0.60      0.57      2558\n",
      "\n",
      "Accuracy: 59.73%\n",
      "Precision (Fake): 42.68%\n",
      "Precision (Real): 64.59%\n",
      "Recall (Fake): 25.55%\n",
      "Recall (Real): 79.83%\n",
      "F1-Score (Fake): 31.97%\n",
      "F1-Score (Real): 71.40%\n"
     ]
    }
   ],
   "source": [
    "from sklearn.metrics import classification_report, accuracy_score, precision_recall_fscore_support\n",
    "\n",
    "#Printing classification report\n",
    "print(\"Classification Report:\")\n",
    "report = classification_report(y_test, y_pred, target_names=['fake', 'real'])\n",
    "print(report)\n",
    "\n",
    "#Calculating and print accuracy\n",
    "accuracy = accuracy_score(y_test, y_pred)\n",
    "print(\"Accuracy: {:.2f}%\".format(accuracy * 100))\n",
    "\n",
    "#Calculating precision, recall, and F1-score\n",
    "precision, recall, f1_score, _ = precision_recall_fscore_support(y_test, y_pred, average=None)\n",
    "\n",
    "#Printing precision, recall, and F1-score in percentage\n",
    "print(\"Precision (Fake): {:.2f}%\".format(precision[0] * 100))\n",
    "print(\"Precision (Real): {:.2f}%\".format(precision[1] * 100))\n",
    "print(\"Recall (Fake): {:.2f}%\".format(recall[0] * 100))\n",
    "print(\"Recall (Real): {:.2f}%\".format(recall[1] * 100))\n",
    "print(\"F1-Score (Fake): {:.2f}%\".format(f1_score[0] * 100))\n",
    "print(\"F1-Score (Real): {:.2f}%\".format(f1_score[1] * 100))"
   ]
  },
  {
   "cell_type": "code",
   "execution_count": 23,
   "id": "3db30b26",
   "metadata": {},
   "outputs": [
    {
     "name": "stdout",
     "output_type": "stream",
     "text": [
      "\u001b[1mTrue Positive: The number of instances, when the model predicted FAKE news as FAKE only \u001b[0m \n",
      "True Positive: 242\n",
      "\n",
      "\u001b[1mFalse Positive: The number of instances, when the model predicted as FAKE news, but it is a REAL news\u001b[0m\n",
      "False Positive: 705\n",
      "\n",
      "\u001b[1mFalse Negative: The number of instances, when the model predicted as REAL news, but it is a FAKE news\u001b[0m\n",
      "False Negative: 325\n",
      "\n",
      "\u001b[1mTrue Negative: The number of instances, when the model predicted REAL news as REAL only\u001b[0m\n",
      "True Negative: 1286\n"
     ]
    }
   ],
   "source": [
    "from sklearn.metrics import confusion_matrix\n",
    "\n",
    "#Assuming Y_Test and Y_Pred are the true labels and predicted labels, respectively\n",
    "\n",
    "#Calculating confusion matrix\n",
    "conf_matrix = confusion_matrix(y_test, y_pred)\n",
    "\n",
    "#Extracting TP, FP, TN, FN from confusion matrix\n",
    "TP = conf_matrix[0, 0]\n",
    "FP = conf_matrix[0, 1]\n",
    "TN = conf_matrix[1, 1]\n",
    "FN = conf_matrix[1, 0]\n",
    "\n",
    "#Printing explanations and corresponding numbers\n",
    "print(\"\\033[1mTrue Positive: The number of instances, when the model predicted FAKE news as FAKE only \\033[0m \")\n",
    "print(\"True Positive:\", TP)\n",
    "print()\n",
    "print(\"\\033[1mFalse Positive: The number of instances, when the model predicted as FAKE news, but it is a REAL news\\033[0m\")\n",
    "print(\"False Positive:\", FP)\n",
    "print()\n",
    "print(\"\\033[1mFalse Negative: The number of instances, when the model predicted as REAL news, but it is a FAKE news\\033[0m\")\n",
    "print(\"False Negative:\", FN)\n",
    "print()\n",
    "print(\"\\033[1mTrue Negative: The number of instances, when the model predicted REAL news as REAL only\\033[0m\")\n",
    "print(\"True Negative:\", TN)\n"
   ]
  },
  {
   "cell_type": "code",
   "execution_count": 24,
   "id": "36965b1d",
   "metadata": {},
   "outputs": [
    {
     "data": {
      "image/png": "[encoded data removed]",
      "text/plain": [
       "<Figure size 800x600 with 1 Axes>"
      ]
     },
     "metadata": {},
     "output_type": "display_data"
    }
   ],
   "source": [
    "#Creating a heatmap of the confusion matrix\n",
    "plt.figure(figsize=(8, 6))\n",
    "sns.heatmap(conf_matrix, annot=True, cmap='Blues', fmt='d', cbar=False)\n",
    "plt.xlabel('Predicted Labels')\n",
    "plt.ylabel('True Labels')\n",
    "plt.title('Confusion Matrix')\n",
    "plt.show()"
   ]
  },
  {
   "cell_type": "code",
   "execution_count": 26,
   "id": "e85d6ce4",
   "metadata": {},
   "outputs": [
    {
     "data": {
      "image/png": "[encoded data removed]",
      "text/plain": [
       "<Figure size 640x480 with 1 Axes>"
      ]
     },
     "metadata": {},
     "output_type": "display_data"
    }
   ],
   "source": [
    "AccuracyScores = [accuracy_score(y_test, y_pred), 0.70]  \n",
    "Models = ['Random Forest Model', 'Baseline Model']\n",
    "\n",
    "plt.bar(Models, AccuracyScores)\n",
    "plt.title('Model Accuracy Comparison')\n",
    "plt.xlabel('Models')\n",
    "plt.ylabel('Accuracy Score')\n",
    "plt.ylim([0, 1])  #Setting the y-axis limits between 0 and 1\n",
    "plt.show()"
   ]
  },
  {
   "cell_type": "code",
   "execution_count": null,
   "id": "cb9258ca",
   "metadata": {},
   "outputs": [],
   "source": []
  }
 ],
 "metadata": {
  "kernelspec": {
   "display_name": "Python 3 (ipykernel)",
   "language": "python",
   "name": "python3"
  },
  "language_info": {
   "codemirror_mode": {
    "name": "ipython",
    "version": 3
   },
   "file_extension": ".py",
   "mimetype": "text/x-python",
   "name": "python",
   "nbconvert_exporter": "python",
   "pygments_lexer": "ipython3",
   "version": "3.10.7"
  }
 },
 "nbformat": 4,
 "nbformat_minor": 5
}
